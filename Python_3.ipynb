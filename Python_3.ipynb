{
  "nbformat": 4,
  "nbformat_minor": 0,
  "metadata": {
    "colab": {
      "name": "Python 3.ipynb",
      "version": "0.3.2",
      "provenance": [],
      "include_colab_link": true
    },
    "kernelspec": {
      "name": "python3",
      "display_name": "Python 3"
    }
  },
  "cells": [
    {
      "cell_type": "markdown",
      "metadata": {
        "id": "view-in-github",
        "colab_type": "text"
      },
      "source": [
        "<a href=\"https://colab.research.google.com/github/Shruthi341/Raptor/blob/master/Python_3.ipynb\" target=\"_parent\"><img src=\"https://colab.research.google.com/assets/colab-badge.svg\" alt=\"Open In Colab\"/></a>"
      ]
    },
    {
      "cell_type": "markdown",
      "metadata": {
        "id": "Sc-kD9GcWzgU",
        "colab_type": "text"
      },
      "source": [
        "# Binary search\n",
        "\n",
        "->SORTED ORDER\n",
        "\n",
        "  mid = (l + h)/2\n",
        "  \n",
        "   if(a[i]==mid)  -> print\n",
        "   \n",
        "   else check required no. greater or less than mid\n",
        "\n",
        "\n",
        " `  if(a[i]<mid) `\n",
        "   \n",
        "         high = mid-1\n",
        "              \n",
        "\n",
        "  elif(a[i]>mid) \n",
        "            \n",
        "         low = mid +1   \n",
        "          \n",
        "          "
      ]
    },
    {
      "cell_type": "code",
      "metadata": {
        "id": "UC3tCoVOZJSN",
        "colab_type": "code",
        "outputId": "754ef658-2edf-4423-afd1-8cb7f392e658",
        "colab": {
          "base_uri": "https://localhost:8080/",
          "height": 34
        }
      },
      "source": [
        "def binarySearch(a,low,high,item):\n",
        "  while(low<=high):\n",
        "    mid=low+(high-low)//2\n",
        "    if a[mid]==item:\n",
        "        return mid\n",
        "    if a[mid]< item:\n",
        "      low=mid+1\n",
        "       \n",
        "    else:\n",
        "      high=mid-1\n",
        "  return -1\n",
        "list1=[1,2,4,6,34,67,89,90]\n",
        "res = binarySearch(list1,0,7,23)\n",
        "if(res!=-1):\n",
        "  print(\"item is found\")\n",
        "else:\n",
        "  print(\"item is not found\")\n",
        "      \n",
        "    \n",
        "  \n",
        "  "
      ],
      "execution_count": 0,
      "outputs": [
        {
          "output_type": "stream",
          "text": [
            "item is not found\n"
          ],
          "name": "stdout"
        }
      ]
    },
    {
      "cell_type": "markdown",
      "metadata": {
        "id": "vBJ263Mlhet1",
        "colab_type": "text"
      },
      "source": [
        "**Bubble sort**"
      ]
    },
    {
      "cell_type": "code",
      "metadata": {
        "id": "0SwdGK-ohTZE",
        "colab_type": "code",
        "outputId": "339e4a6c-98d2-46b8-8771-e29f7418bf75",
        "colab": {
          "base_uri": "https://localhost:8080/",
          "height": 34
        }
      },
      "source": [
        "def bubbleSort(b):\n",
        "    n = len(b)\n",
        " \n",
        "    \n",
        "    for i in range(n):\n",
        " \n",
        "       \n",
        "        for j in range(n-i-1):\n",
        " \n",
        "           \n",
        "            if b[j] > b[j+1] :\n",
        "               t=b[j]\n",
        "               b[j]=b[j+1]\n",
        "               b[j+1]=t\n",
        "    for i in range(len(b)):\n",
        "       print (b[i],end=\" \")  \n",
        "      \n",
        "list1   = [64, 34, 25, 12, 22, 11, 90]\n",
        " \n",
        "bubbleSort(list1)\n",
        " \n"
      ],
      "execution_count": 0,
      "outputs": [
        {
          "output_type": "stream",
          "text": [
            "11 12 22 25 34 64 90 "
          ],
          "name": "stdout"
        }
      ]
    },
    {
      "cell_type": "markdown",
      "metadata": {
        "id": "soBjXJYloPPr",
        "colab_type": "text"
      },
      "source": [
        "# Strings in Python"
      ]
    },
    {
      "cell_type": "code",
      "metadata": {
        "id": "LzcD3EbsiRrF",
        "colab_type": "code",
        "outputId": "9bee4bd2-4bcd-4f1c-92c4-dcf706564a63",
        "colab": {
          "base_uri": "https://localhost:8080/",
          "height": 153
        }
      },
      "source": [
        "#creating a string\n",
        "str =\"Application\"\n",
        "print(str)\n",
        "str1 ='Program'\n",
        "print(str1)\n",
        "str2=\"\"\" Application Test\n",
        "         working \n",
        "         Completed\n",
        "         List\n",
        "         String \n",
        "         Python\"\"\"\n",
        "print(str2)"
      ],
      "execution_count": 0,
      "outputs": [
        {
          "output_type": "stream",
          "text": [
            "Application\n",
            "Program\n",
            " Application Test\n",
            "         working \n",
            "         Completed\n",
            "         List\n",
            "         String \n",
            "         Python\n"
          ],
          "name": "stdout"
        }
      ]
    },
    {
      "cell_type": "code",
      "metadata": {
        "id": "87ZWQOdJpUQZ",
        "colab_type": "code",
        "outputId": "89515f9b-ed14-4974-b2a3-3cb85fde52f7",
        "colab": {
          "base_uri": "https://localhost:8080/",
          "height": 170
        }
      },
      "source": [
        "str =\"Application\"\n",
        "print(str)\n",
        "print(\"str[0] =\",str[0])\n",
        "print(\"str[1]=\",str[1])\n",
        "print(\"str[-1]=\",str[-1])\n",
        "print(\"str[-3]=\",str[-3])\n",
        "print(\"str[1:5]=\",str[1:5])\n",
        "print(\"str[5:-2]=\",str[5:-2])\n",
        "print(\"str[-7:-4]=\",str[-7:-4])\n",
        "print(\"str[::-1]=\",str[::-1])#reverse"
      ],
      "execution_count": 0,
      "outputs": [
        {
          "output_type": "stream",
          "text": [
            "Application\n",
            "str[0] = A\n",
            "str[1]= p\n",
            "str[-1]= n\n",
            "str[-3]= i\n",
            "str[1:5]= ppli\n",
            "str[5:-2]= cati\n",
            "str[-7:-4]= ica\n",
            "str[::-1]= noitacilppA\n"
          ],
          "name": "stdout"
        }
      ]
    },
    {
      "cell_type": "markdown",
      "metadata": {
        "id": "5Vqw98-7zkhT",
        "colab_type": "text"
      },
      "source": [
        "**PALINDROME STRING**"
      ]
    },
    {
      "cell_type": "code",
      "metadata": {
        "id": "Zl3Ix52EqT-5",
        "colab_type": "code",
        "outputId": "9c2565b5-d4fd-4b8e-aafc-5918e0b7e75b",
        "colab": {
          "base_uri": "https://localhost:8080/",
          "height": 51
        }
      },
      "source": [
        "def isPalindrome(s):\n",
        "  if s== s[::-1]:\n",
        "    return True\n",
        "  else :\n",
        "    return False\n",
        "print(isPalindrome(\"Python\"))\n",
        "print(isPalindrome(\"salas\"))\n",
        "  "
      ],
      "execution_count": 0,
      "outputs": [
        {
          "output_type": "stream",
          "text": [
            "False\n",
            "True\n"
          ],
          "name": "stdout"
        }
      ]
    },
    {
      "cell_type": "markdown",
      "metadata": {
        "id": "l62a3RDO0eLy",
        "colab_type": "text"
      },
      "source": [
        "**COUNT THE NO. OF DIGITS**"
      ]
    },
    {
      "cell_type": "code",
      "metadata": {
        "id": "BozgVOsW0UP-",
        "colab_type": "code",
        "outputId": "a869e198-a68c-44ad-fbc1-475fe7f9465f",
        "colab": {
          "base_uri": "https://localhost:8080/",
          "height": 51
        }
      },
      "source": [
        "n=int(input(\"Enter a no.\"))\n",
        "cnt =0\n",
        "while n!=0:\n",
        "  cnt = cnt +1\n",
        "  n= n//10\n",
        "print(cnt)  "
      ],
      "execution_count": 0,
      "outputs": [
        {
          "output_type": "stream",
          "text": [
            "Enter a no.1234\n",
            "4\n"
          ],
          "name": "stdout"
        }
      ]
    },
    {
      "cell_type": "markdown",
      "metadata": {
        "id": "o1exOvLN2Dlf",
        "colab_type": "text"
      },
      "source": [
        "**COUNT NO. OF CHARACTERS**"
      ]
    },
    {
      "cell_type": "code",
      "metadata": {
        "id": "ugVRm0SQ2Akj",
        "colab_type": "code",
        "outputId": "7770d8d2-3459-4332-fff5-36c07e0594ff",
        "colab": {
          "base_uri": "https://localhost:8080/",
          "height": 34
        }
      },
      "source": [
        "def countchar(str):\n",
        "  return len(str)\n",
        "countchar(\"shruthi Goud\")\n",
        "  "
      ],
      "execution_count": 0,
      "outputs": [
        {
          "output_type": "execute_result",
          "data": {
            "text/plain": [
              "12"
            ]
          },
          "metadata": {
            "tags": []
          },
          "execution_count": 47
        }
      ]
    },
    {
      "cell_type": "markdown",
      "metadata": {
        "id": "3zQrblJO25d2",
        "colab_type": "text"
      },
      "source": [
        "**Covert the string into Upper Case**"
      ]
    },
    {
      "cell_type": "code",
      "metadata": {
        "id": "KDZMeOow219R",
        "colab_type": "code",
        "outputId": "d34a97b5-dc58-4a21-b3af-242b2c448dd6",
        "colab": {
          "base_uri": "https://localhost:8080/",
          "height": 51
        }
      },
      "source": [
        "string = \"this should be uppercase!\"\n",
        "print(string.upper())\n",
        "str = \"SHRUTHI\"\n",
        "print(str.lower())"
      ],
      "execution_count": 0,
      "outputs": [
        {
          "output_type": "stream",
          "text": [
            "THIS SHOULD BE UPPERCASE!\n",
            "shruthi\n"
          ],
          "name": "stdout"
        }
      ]
    },
    {
      "cell_type": "markdown",
      "metadata": {
        "id": "6-oGEPpb5NlT",
        "colab_type": "text"
      },
      "source": [
        "**Lenght of list**"
      ]
    },
    {
      "cell_type": "code",
      "metadata": {
        "id": "q0mCm2Eh3Yb9",
        "colab_type": "code",
        "outputId": "c2fcaace-2225-4431-df44-8a5f0c5482f2",
        "colab": {
          "base_uri": "https://localhost:8080/",
          "height": 34
        }
      },
      "source": [
        "def count(str):\n",
        "  list1 = list(str)\n",
        "\n",
        "  print(len(list1))\n",
        "count(\"apple\")  "
      ],
      "execution_count": 0,
      "outputs": [
        {
          "output_type": "stream",
          "text": [
            "5\n"
          ],
          "name": "stdout"
        }
      ]
    },
    {
      "cell_type": "markdown",
      "metadata": {
        "id": "3cwguysW9k14",
        "colab_type": "text"
      },
      "source": [
        "**Count Upper Case**"
      ]
    },
    {
      "cell_type": "code",
      "metadata": {
        "id": "nOWqDhhB9Vp2",
        "colab_type": "code",
        "outputId": "44f37590-7f01-4476-fb10-92efe7ac7ffe",
        "colab": {
          "base_uri": "https://localhost:8080/",
          "height": 34
        }
      },
      "source": [
        "def countUpperCase(str):\n",
        "  cnt = 0\n",
        "  lst = list(str)\n",
        "  for x in range(len(lst)):\n",
        "    if ord(lst[x]) >=65 and ord(lst[x])<=90:\n",
        "      cnt = cnt +1\n",
        "  return  cnt\n",
        "print(countUpperCase(\"AppLICatIon\"))  \n",
        "    "
      ],
      "execution_count": 0,
      "outputs": [
        {
          "output_type": "stream",
          "text": [
            "5\n"
          ],
          "name": "stdout"
        }
      ]
    },
    {
      "cell_type": "markdown",
      "metadata": {
        "id": "EFQN9NLuCy7R",
        "colab_type": "text"
      },
      "source": [
        "**Print digits **"
      ]
    },
    {
      "cell_type": "code",
      "metadata": {
        "id": "vHETgBYHAfSn",
        "colab_type": "code",
        "outputId": "a3a79caf-d5a9-451f-f649-4cdfa9d2816e",
        "colab": {
          "base_uri": "https://localhost:8080/",
          "height": 34
        }
      },
      "source": [
        "def printDigits(str):\n",
        "\n",
        "  lst = list(str)\n",
        "  for x in range(len(lst)):\n",
        "    if ord(lst[x])>=48 and ord(lst[x])<=57:\n",
        "      print(lst[x],end=\"\")\n",
        " \n",
        "    \n",
        "printDigits(\"Application1889\")\n",
        "    \n",
        "      \n",
        "      \n",
        "         "
      ],
      "execution_count": 0,
      "outputs": [
        {
          "output_type": "stream",
          "text": [
            "1889"
          ],
          "name": "stdout"
        }
      ]
    },
    {
      "cell_type": "markdown",
      "metadata": {
        "id": "GqCNP3l1GeCS",
        "colab_type": "text"
      },
      "source": [
        "**Strings----Add the digits \n"
      ]
    },
    {
      "cell_type": "code",
      "metadata": {
        "id": "kf4VUAPJYIqf",
        "colab_type": "code",
        "outputId": "3942509e-0424-44a0-e1a1-1773b1ec4b5a",
        "colab": {
          "base_uri": "https://localhost:8080/",
          "height": 34
        }
      },
      "source": [
        "def sumofDigits(str):\n",
        "  sum=0\n",
        "  lst=list(str)\n",
        "  for x in range(len(lst)):\n",
        "    if ord(lst[x])>=48 and ord(lst[x])<=57:\n",
        "      sum=sum+ord(lst[x])-48\n",
        "  return sum\n",
        "sumofDigits(\"Application1889\")"
      ],
      "execution_count": 0,
      "outputs": [
        {
          "output_type": "execute_result",
          "data": {
            "text/plain": [
              "26"
            ]
          },
          "metadata": {
            "tags": []
          },
          "execution_count": 79
        }
      ]
    },
    {
      "cell_type": "markdown",
      "metadata": {
        "id": "TcvZ28clg_pJ",
        "colab_type": "text"
      },
      "source": [
        "**Strings---Add digits of even**"
      ]
    },
    {
      "cell_type": "code",
      "metadata": {
        "id": "d8ct2PrhEd4D",
        "colab_type": "code",
        "outputId": "fe4556fd-9618-481f-8e6e-8bdf83895d12",
        "colab": {
          "base_uri": "https://localhost:8080/",
          "height": 34
        }
      },
      "source": [
        "def sumofDigits(str):\n",
        "  sum=0\n",
        "  lst=list(str)\n",
        "  for x in range(len(lst)):\n",
        "    if ord(lst[x])>=48 and ord(lst[x])<=57:\n",
        "      if(ord(lst[x])%2==0):\n",
        "        sum=sum+ord(lst[x])-48\n",
        "  return sum\n",
        "sumofDigits(\"Application1889fghjt235ws;leo03968;alsdkgo109238\")"
      ],
      "execution_count": 0,
      "outputs": [
        {
          "output_type": "execute_result",
          "data": {
            "text/plain": [
              "42"
            ]
          },
          "metadata": {
            "tags": []
          },
          "execution_count": 92
        }
      ]
    },
    {
      "cell_type": "code",
      "metadata": {
        "id": "hNDY5BsncX26",
        "colab_type": "code",
        "outputId": "40c9ef4e-c028-411a-9746-d98fd6626acc",
        "colab": {
          "base_uri": "https://localhost:8080/",
          "height": 197
        }
      },
      "source": [
        "x = \"foo \"\n",
        "y = 2\n",
        "print(x+y)"
      ],
      "execution_count": 0,
      "outputs": [
        {
          "output_type": "error",
          "ename": "TypeError",
          "evalue": "ignored",
          "traceback": [
            "\u001b[0;31m---------------------------------------------------------------------------\u001b[0m",
            "\u001b[0;31mTypeError\u001b[0m                                 Traceback (most recent call last)",
            "\u001b[0;32m<ipython-input-93-1d3c82dba1a3>\u001b[0m in \u001b[0;36m<module>\u001b[0;34m()\u001b[0m\n\u001b[1;32m      1\u001b[0m \u001b[0mx\u001b[0m \u001b[0;34m=\u001b[0m \u001b[0;34m\"foo \"\u001b[0m\u001b[0;34m\u001b[0m\u001b[0;34m\u001b[0m\u001b[0m\n\u001b[1;32m      2\u001b[0m \u001b[0my\u001b[0m \u001b[0;34m=\u001b[0m \u001b[0;36m2\u001b[0m\u001b[0;34m\u001b[0m\u001b[0;34m\u001b[0m\u001b[0m\n\u001b[0;32m----> 3\u001b[0;31m \u001b[0mprint\u001b[0m\u001b[0;34m(\u001b[0m\u001b[0mx\u001b[0m\u001b[0;34m+\u001b[0m\u001b[0my\u001b[0m\u001b[0;34m)\u001b[0m\u001b[0;34m\u001b[0m\u001b[0;34m\u001b[0m\u001b[0m\n\u001b[0m",
            "\u001b[0;31mTypeError\u001b[0m: must be str, not int"
          ]
        }
      ]
    },
    {
      "cell_type": "code",
      "metadata": {
        "id": "nmRZgGiusTUn",
        "colab_type": "code",
        "colab": {}
      },
      "source": [
        ""
      ],
      "execution_count": 0,
      "outputs": []
    }
  ]
}