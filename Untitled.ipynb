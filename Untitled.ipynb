{
  "nbformat": 4,
  "nbformat_minor": 0,
  "metadata": {
    "colab": {
      "name": "Untitled",
      "version": "0.3.2",
      "provenance": [],
      "include_colab_link": true
    },
    "kernelspec": {
      "name": "python3",
      "display_name": "Python 3"
    }
  },
  "cells": [
    {
      "cell_type": "markdown",
      "metadata": {
        "id": "view-in-github",
        "colab_type": "text"
      },
      "source": [
        "<a href=\"https://colab.research.google.com/github/Shruthi341/Raptor/blob/master/Untitled.ipynb\" target=\"_parent\"><img src=\"https://colab.research.google.com/assets/colab-badge.svg\" alt=\"Open In Colab\"/></a>"
      ]
    },
    {
      "cell_type": "markdown",
      "metadata": {
        "id": "sUcmEfx4O4ol",
        "colab_type": "text"
      },
      "source": [
        "# ex 1:"
      ]
    },
    {
      "cell_type": "markdown",
      "metadata": {
        "id": "uLJW1tYUPA3a",
        "colab_type": "text"
      },
      "source": [
        "**Factors list of given number**"
      ]
    },
    {
      "cell_type": "code",
      "metadata": {
        "id": "uGHXflQcL5QW",
        "colab_type": "code",
        "outputId": "2ebbb1ec-7a2c-4f9f-ca48-c85fee4e10c0",
        "colab": {
          "base_uri": "https://localhost:8080/",
          "height": 108
        }
      },
      "source": [
        "def facList(n):\n",
        "  i=1\n",
        "  while(i!=n):\n",
        "    if(n%i==0):\n",
        "      print(i)\n",
        "    i=i+1 \n",
        "  return\n",
        "facList(12)"
      ],
      "execution_count": 0,
      "outputs": [
        {
          "output_type": "stream",
          "text": [
            "1\n",
            "2\n",
            "3\n",
            "4\n",
            "6\n"
          ],
          "name": "stdout"
        }
      ]
    },
    {
      "cell_type": "markdown",
      "metadata": {
        "id": "OsnxmgLiSeDF",
        "colab_type": "text"
      },
      "source": [
        "# ex2:"
      ]
    },
    {
      "cell_type": "markdown",
      "metadata": {
        "id": "zuVL9lynShHD",
        "colab_type": "text"
      },
      "source": [
        "**List in Python**\n",
        "\n",
        "[item1,item2,.....item N]\n",
        "\n",
        "**ex:**\n",
        "List1=[1,2,3]\n",
        "\n",
        "List2=[\"a\",\"b\"]"
      ]
    },
    {
      "cell_type": "code",
      "metadata": {
        "id": "kS2JvzFgTSAy",
        "colab_type": "code",
        "outputId": "8f89ad92-64f0-40d7-ddfb-1f3d01b43c69",
        "colab": {
          "base_uri": "https://localhost:8080/",
          "height": 118
        }
      },
      "source": [
        "list1 = [1,2,3,4,5,6,7]\n",
        "print(list1)\n",
        "print(list1[0])\n",
        "print(list1[4])\n",
        "print(list1[3:6])\n",
        "print(list1[:3])\n",
        "print(list1[:7])"
      ],
      "execution_count": 0,
      "outputs": [
        {
          "output_type": "stream",
          "text": [
            "[1, 2, 3, 4, 5, 6, 7]\n",
            "1\n",
            "5\n",
            "[4, 5, 6]\n",
            "[1, 2, 3]\n",
            "[1, 2, 3, 4, 5, 6, 7]\n"
          ],
          "name": "stdout"
        }
      ]
    },
    {
      "cell_type": "markdown",
      "metadata": {
        "id": "OZvti6wrVLBF",
        "colab_type": "text"
      },
      "source": [
        "# for Loop\n",
        "\n",
        "**Syntax**\n",
        "\n",
        "     for<variableName> in <seq>\n",
        "        \n",
        "           <statements>"
      ]
    },
    {
      "cell_type": "code",
      "metadata": {
        "id": "whHqwHotVry8",
        "colab_type": "code",
        "outputId": "c5539c1b-0a72-4565-f9f1-6d0da1e23984",
        "colab": {
          "base_uri": "https://localhost:8080/",
          "height": 103
        }
      },
      "source": [
        "list2 = [\"Sangeetha\",\"Shruthi\",\"Sirisha\",\"Sakruthi\"]\n",
        "for x in list2:\n",
        "  print(x)\n",
        "print(list2[1])"
      ],
      "execution_count": 0,
      "outputs": [
        {
          "output_type": "stream",
          "text": [
            "Sangeetha\n",
            "Shruthi\n",
            "Sirisha\n",
            "Sakruthi\n",
            "Shruthi\n"
          ],
          "name": "stdout"
        }
      ]
    },
    {
      "cell_type": "markdown",
      "metadata": {
        "id": "VefM-qhgiWUG",
        "colab_type": "text"
      },
      "source": [
        "\n",
        "\n",
        "---\n",
        "\n"
      ]
    },
    {
      "cell_type": "code",
      "metadata": {
        "id": "VvuOPLkQfQYq",
        "colab_type": "code",
        "outputId": "796b6857-5d13-4b36-f4a1-1130c2f700d9",
        "colab": {
          "base_uri": "https://localhost:8080/",
          "height": 85
        }
      },
      "source": [
        "list2 = [\"Sangeetha\",\"Shruthi\",\"Sirisha\",\"Sakruthi\"]\n",
        "print(list2)\n",
        "print(list2[1])\n",
        "print(list2+list1)\n",
        "list2[0]=12\n",
        "del list2[3]\n",
        "list2\n"
      ],
      "execution_count": 0,
      "outputs": [
        {
          "output_type": "stream",
          "text": [
            "['Sangeetha', 'Shruthi', 'Sirisha', 'Sakruthi']\n",
            "Shruthi\n",
            "['Sangeetha', 'Shruthi', 'Sirisha', 'Sakruthi', 1, 2, 3, 4, 5, 6, 7]\n"
          ],
          "name": "stdout"
        },
        {
          "output_type": "execute_result",
          "data": {
            "text/plain": [
              "[12, 'Shruthi', 'Sirisha']"
            ]
          },
          "metadata": {
            "tags": []
          },
          "execution_count": 37
        }
      ]
    },
    {
      "cell_type": "markdown",
      "metadata": {
        "id": "d34iGS_ZidRV",
        "colab_type": "text"
      },
      "source": [
        "\n",
        "\n",
        "---\n",
        "\n"
      ]
    },
    {
      "cell_type": "code",
      "metadata": {
        "id": "TrCnwSPwaMzl",
        "colab_type": "code",
        "outputId": "ef6f05c4-6570-4ab6-ed7a-0c9b369b5193",
        "colab": {
          "base_uri": "https://localhost:8080/",
          "height": 137
        }
      },
      "source": [
        "list1 = [1,2,3,4,5,6,7]\n",
        "for x in list1:\n",
        "  print(x,end=\" \")\n",
        "  \n",
        "print()  \n",
        "print(list1[1:-1])\n",
        "print(list1[1:-2])\n",
        "print(list1[-4:-1])\n",
        "print(list1[::3])\n",
        "print(list1[::2])\n",
        "print(list1[-2])\n",
        "\n",
        "  "
      ],
      "execution_count": 0,
      "outputs": [
        {
          "output_type": "stream",
          "text": [
            "1 2 3 4 5 6 7 \n",
            "[2, 3, 4, 5, 6]\n",
            "[2, 3, 4, 5]\n",
            "[4, 5, 6]\n",
            "[1, 4, 7]\n",
            "[1, 3, 5, 7]\n",
            "6\n"
          ],
          "name": "stdout"
        }
      ]
    },
    {
      "cell_type": "markdown",
      "metadata": {
        "id": "hCP0NTp2kV9y",
        "colab_type": "text"
      },
      "source": [
        "\n",
        "\n",
        "---\n",
        "\n"
      ]
    },
    {
      "cell_type": "code",
      "metadata": {
        "id": "0gosnju6kUX5",
        "colab_type": "code",
        "outputId": "905893b3-c830-47bb-e5a0-2002ec36ef98",
        "colab": {
          "base_uri": "https://localhost:8080/",
          "height": 72
        }
      },
      "source": [
        "print(len(list1))\n",
        "list1.append(15)\n",
        "list1.append(150)\n",
        "list1.append(1)\n",
        "print(list1)\n",
        "print(list1.count(1))"
      ],
      "execution_count": 0,
      "outputs": [
        {
          "output_type": "stream",
          "text": [
            "10\n",
            "[1, 2, 3, 4, 5, 6, 7, 15, 150, 1, 15, 150, 1]\n",
            "3\n"
          ],
          "name": "stdout"
        }
      ]
    },
    {
      "cell_type": "markdown",
      "metadata": {
        "id": "J6YySqardzSO",
        "colab_type": "text"
      },
      "source": [
        "# List with range() function\n",
        "\n",
        "range(number):\n",
        "\n",
        "**index(ojb)**\n",
        "\n",
        "**insert(index,obj)**"
      ]
    },
    {
      "cell_type": "code",
      "metadata": {
        "id": "ybkgA5rYkQmx",
        "colab_type": "code",
        "outputId": "efd9cdde-260b-49b1-8c2d-7c4472d0a568",
        "colab": {
          "base_uri": "https://localhost:8080/",
          "height": 163
        }
      },
      "source": [
        "list1 = [\"Gitam\",\"Python\",\"Raptor\",1,5,\"Python\"]\n",
        "print(list1)\n",
        "print(list1.index(5))\n",
        "print(list1.index(\"Python\"))\n",
        "print(len(list1))\n",
        "list1.insert(2,2004)\n",
        "print(list1)\n",
        "list1.remove(\"Gitam\")\n",
        "print(list1)\n",
        "del list1[1]\n",
        "print(list1)\n",
        "list1.reverse()\n",
        "list1"
      ],
      "execution_count": 0,
      "outputs": [
        {
          "output_type": "stream",
          "text": [
            "['Gitam', 'Python', 'Raptor', 1, 5, 'Python']\n",
            "4\n",
            "1\n",
            "6\n",
            "['Gitam', 'Python', 2004, 'Raptor', 1, 5, 'Python']\n",
            "['Python', 2004, 'Raptor', 1, 5, 'Python']\n",
            "['Python', 'Raptor', 1, 5, 'Python']\n"
          ],
          "name": "stdout"
        },
        {
          "output_type": "execute_result",
          "data": {
            "text/plain": [
              "['Python', 5, 1, 'Raptor', 'Python']"
            ]
          },
          "metadata": {
            "tags": []
          },
          "execution_count": 55
        }
      ]
    },
    {
      "cell_type": "markdown",
      "metadata": {
        "id": "LhJmjquQ0AI8",
        "colab_type": "text"
      },
      "source": [
        "# Linear search\n",
        "\n",
        "**applied on sorted list/unsorted**\n"
      ]
    },
    {
      "cell_type": "code",
      "metadata": {
        "id": "s38r5MuMvnm5",
        "colab_type": "code",
        "outputId": "3ef99d99-5610-4099-89b9-94fdf44261c4",
        "colab": {
          "base_uri": "https://localhost:8080/",
          "height": 35
        }
      },
      "source": [
        "def linearSearch(a,item):\n",
        "  temp=0\n",
        "  for i in range(len(a)):\n",
        "    if(a[i]==item):\n",
        "      temp=1;\n",
        "      break\n",
        "  if(temp!=0):\n",
        "    print(\"item is found\")\n",
        "  else:\n",
        "    print(\"item is not found\")\n",
        "a=[1.23,45,9,5,11]\n",
        "linearSearch(a,22)"
      ],
      "execution_count": 0,
      "outputs": [
        {
          "output_type": "stream",
          "text": [
            "item is not found\n"
          ],
          "name": "stdout"
        }
      ]
    },
    {
      "cell_type": "code",
      "metadata": {
        "id": "VQB6sGiX7Ltm",
        "colab_type": "code",
        "outputId": "5402a0ea-bce7-4d36-d108-43d94b59aa55",
        "colab": {
          "base_uri": "https://localhost:8080/",
          "height": 35
        }
      },
      "source": [
        "def linearSearchDuplicate(a,item):\n",
        "  temp = 0\n",
        "  for i in range(len(a)):\n",
        "    if(a[i]==item):\n",
        "      temp=temp+1;\n",
        "      break\n",
        "  print(temp)\n",
        "a=[9,1,0,34,8,16,23]\n",
        "linearSearchDuplicate(a,9)"
      ],
      "execution_count": 0,
      "outputs": [
        {
          "output_type": "stream",
          "text": [
            "1\n"
          ],
          "name": "stdout"
        }
      ]
    },
    {
      "cell_type": "markdown",
      "metadata": {
        "id": "R6PuVFFuQIqh",
        "colab_type": "text"
      },
      "source": [
        "# ex2:"
      ]
    },
    {
      "cell_type": "code",
      "metadata": {
        "id": "VWVoFfLiQ9C4",
        "colab_type": "code",
        "outputId": "c6f28249-370a-4803-a6dd-3825b4cc0cf6",
        "colab": {
          "base_uri": "https://localhost:8080/",
          "height": 54
        }
      },
      "source": [
        "def linearSearchDuplicate(a,item):\n",
        "  temp = 0\n",
        "  count =0\n",
        "  for i in range(len(a)):\n",
        "    if(a[i]==item):\n",
        "      print(i) \n",
        "a=[9,1,0,34,8,9,16,23]\n",
        "linearSearchDuplicate(a,9)"
      ],
      "execution_count": 0,
      "outputs": [
        {
          "output_type": "stream",
          "text": [
            "0\n",
            "5\n"
          ],
          "name": "stdout"
        }
      ]
    },
    {
      "cell_type": "markdown",
      "metadata": {
        "id": "OFd21GSLR_nh",
        "colab_type": "text"
      },
      "source": [
        "# Linear Search ex3:"
      ]
    },
    {
      "cell_type": "markdown",
      "metadata": {
        "id": "5uqJDRQESIkU",
        "colab_type": "text"
      },
      "source": [
        "input : a List\n",
        "\n",
        "Output: a seq of Characters\n",
        "\n",
        "Test Cases;\n",
        "[1,5,9,6,5,15,12,5],tar = 5"
      ]
    },
    {
      "cell_type": "code",
      "metadata": {
        "id": "GqXGCSFpRRhq",
        "colab_type": "code",
        "outputId": "c04100e8-1ec9-4c2c-940b-a3ad0076fc0c",
        "colab": {
          "base_uri": "https://localhost:8080/",
          "height": 54
        }
      },
      "source": [
        "def linearSearchDuplicate(a,item):\n",
        "\n",
        "  \n",
        "  for i in range(len(a)):\n",
        "    if(a[i]==item):\n",
        "      j=0\n",
        "      while(j!=i+1):\n",
        "        print(\"!\",end=\"\")\n",
        "        j=j+1\n",
        "      print()\n",
        "     \n",
        "a=[9,1,0,34,8,9,16,23]\n",
        "linearSearchDuplicate(a,9)"
      ],
      "execution_count": 0,
      "outputs": [
        {
          "output_type": "stream",
          "text": [
            "!\n",
            "!!!!!!\n"
          ],
          "name": "stdout"
        }
      ]
    },
    {
      "cell_type": "markdown",
      "metadata": {
        "id": "XiVqXWVFXIlE",
        "colab_type": "text"
      },
      "source": [
        "# ex:4\n",
        "\n",
        "Input : List\n",
        "\n",
        "Output:Sum of list of perfect multiple of 3 and 5"
      ]
    },
    {
      "cell_type": "code",
      "metadata": {
        "id": "DLef5p2gXmgi",
        "colab_type": "code",
        "outputId": "defceb0e-ef89-4d13-c552-c4c8153ed873",
        "colab": {
          "base_uri": "https://localhost:8080/",
          "height": 34
        }
      },
      "source": [
        "def linearSum(a):\n",
        "  sum=0\n",
        "  for i in range(len(a)):\n",
        "    if((a[i]%3==0)and(a[i]%5==0)):\n",
        "      sum=sum+a[i]\n",
        "  print(sum)  \n",
        "      \n",
        "a=[9,3,5,67,15,45,60] \n",
        "linearSum(a)"
      ],
      "execution_count": 87,
      "outputs": [
        {
          "output_type": "stream",
          "text": [
            "120\n"
          ],
          "name": "stdout"
        }
      ]
    },
    {
      "cell_type": "code",
      "metadata": {
        "id": "oQgyL2FVhAta",
        "colab_type": "code",
        "colab": {}
      },
      "source": [
        "def linearFormattedOutput(a):\n",
        "  for i in range(len(a)):\n",
        "    if i==0 or "
      ],
      "execution_count": 0,
      "outputs": []
    }
  ]
}