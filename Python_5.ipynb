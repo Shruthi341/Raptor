{
  "nbformat": 4,
  "nbformat_minor": 0,
  "metadata": {
    "colab": {
      "name": "Python 5.ipynb",
      "version": "0.3.2",
      "provenance": [],
      "include_colab_link": true
    },
    "kernelspec": {
      "name": "python3",
      "display_name": "Python 3"
    }
  },
  "cells": [
    {
      "cell_type": "markdown",
      "metadata": {
        "id": "view-in-github",
        "colab_type": "text"
      },
      "source": [
        "<a href=\"https://colab.research.google.com/github/Shruthi341/Raptor/blob/master/Python_5.ipynb\" target=\"_parent\"><img src=\"https://colab.research.google.com/assets/colab-badge.svg\" alt=\"Open In Colab\"/></a>"
      ]
    },
    {
      "cell_type": "markdown",
      "metadata": {
        "id": "7YXQZjKAo4u9",
        "colab_type": "text"
      },
      "source": [
        "**Function to create a file and Write some data**"
      ]
    },
    {
      "cell_type": "code",
      "metadata": {
        "id": "vSfoujV1pREl",
        "colab_type": "code",
        "outputId": "adf39ba1-72f2-46ae-f52d-3b6fa088e1d7",
        "colab": {
          "base_uri": "https://localhost:8080/",
          "height": 34
        }
      },
      "source": [
        "def createFile(filename):\n",
        "  f=open(filename,\"w\")\n",
        "  for i in range(10):\n",
        "    f.write(\"This is %d Line \\n\" % i)\n",
        "  print(\"File is created Successfully and Data is Written\")\n",
        "  f.close()\n",
        "  return\n",
        "createFile(\"file1.txt\")"
      ],
      "execution_count": 0,
      "outputs": [
        {
          "output_type": "stream",
          "text": [
            "File is created Successfully and Data is Written\n"
          ],
          "name": "stdout"
        }
      ]
    },
    {
      "cell_type": "markdown",
      "metadata": {
        "id": "YG13ih9IrztZ",
        "colab_type": "text"
      },
      "source": [
        "**Function for reading the Data**"
      ]
    },
    {
      "cell_type": "code",
      "metadata": {
        "id": "PW2POMSsp8WN",
        "colab_type": "code",
        "outputId": "b0532532-bda2-40ad-f1a5-2b08a2400a6a",
        "colab": {
          "base_uri": "https://localhost:8080/",
          "height": 202
        }
      },
      "source": [
        "def readFile(filename):\n",
        "  f = open (filename,\"r\")\n",
        "  if f.mode ==\"r\":\n",
        "    x = f.read()\n",
        "    print(x)\n",
        "  f.close()\n",
        "  return\n",
        "readFile(\"file1.txt\")"
      ],
      "execution_count": 0,
      "outputs": [
        {
          "output_type": "stream",
          "text": [
            "This is 0 Line \n",
            "This is 1 Line \n",
            "This is 2 Line \n",
            "This is 3 Line \n",
            "This is 4 Line \n",
            "This is 5 Line \n",
            "This is 6 Line \n",
            "This is 7 Line \n",
            "This is 8 Line \n",
            "This is 9 Line \n",
            "\n"
          ],
          "name": "stdout"
        }
      ]
    },
    {
      "cell_type": "code",
      "metadata": {
        "id": "SsjQgsgIscRT",
        "colab_type": "code",
        "outputId": "94cfa242-cd37-4f31-d240-eb37892f1357",
        "colab": {
          "base_uri": "https://localhost:8080/",
          "height": 34
        }
      },
      "source": [
        "def createFile(filename):\n",
        "  f=open(filename,\"w\")\n",
        "  for i in range(10):\n",
        "    f.write(\"Test %d Line \\n\" % i)\n",
        "  print(\"File is created Successfully and Data is Written\")\n",
        "  f.close()\n",
        "  return\n",
        "createFile(\"file1.txt\")"
      ],
      "execution_count": 0,
      "outputs": [
        {
          "output_type": "stream",
          "text": [
            "File is created Successfully and Data is Written\n"
          ],
          "name": "stdout"
        }
      ]
    },
    {
      "cell_type": "markdown",
      "metadata": {
        "id": "hACTPjPz8cIN",
        "colab_type": "text"
      },
      "source": [
        "** Data to append **\n",
        "\n",
        "**Function to append the data to existing file** "
      ]
    },
    {
      "cell_type": "code",
      "metadata": {
        "id": "xa2hUzrcuV_t",
        "colab_type": "code",
        "colab": {}
      },
      "source": [
        "def appendData(filename):\n",
        "  f = open(filename,\"a\")\n",
        "  f.write(\"New line 1\\n\")\n",
        "  f.write(\"New line2\\n\")\n",
        "  f.close()\n",
        "  return\n",
        "appendData(\"file1.txt\")"
      ],
      "execution_count": 0,
      "outputs": []
    },
    {
      "cell_type": "code",
      "metadata": {
        "id": "zsyqKMho9c4N",
        "colab_type": "code",
        "outputId": "63711f3a-db25-4e31-a63c-144b2ff4fa29",
        "colab": {
          "base_uri": "https://localhost:8080/",
          "height": 34
        }
      },
      "source": [
        "ls"
      ],
      "execution_count": 0,
      "outputs": [
        {
          "output_type": "stream",
          "text": [
            "file1.txt  \u001b[0m\u001b[01;34msample_data\u001b[0m/\n"
          ],
          "name": "stdout"
        }
      ]
    },
    {
      "cell_type": "code",
      "metadata": {
        "id": "x45vVBLS9n7a",
        "colab_type": "code",
        "outputId": "12530d06-6cfb-47fd-8cdb-14ed58bbaeb9",
        "colab": {
          "base_uri": "https://localhost:8080/",
          "height": 34
        }
      },
      "source": [
        "def dataAnalysisWordCount(filename,word):\n",
        "  f = open(filename,\"r\")\n",
        "  if f.mode ==\"r\":\n",
        "    x = f.read()\n",
        "    lst = x.split()\n",
        "  cnt = lst.count(word)\n",
        "  return cnt\n",
        "print(dataAnalysisWordCount(\"file1.txt\",\"rest\"))"
      ],
      "execution_count": 0,
      "outputs": [
        {
          "output_type": "stream",
          "text": [
            "0\n"
          ],
          "name": "stdout"
        }
      ]
    },
    {
      "cell_type": "code",
      "metadata": {
        "id": "unuHe1i2-0HZ",
        "colab_type": "code",
        "outputId": "078ec2a8-87e8-40a3-956a-1b912204a52e",
        "colab": {
          "base_uri": "https://localhost:8080/",
          "height": 34
        }
      },
      "source": [
        "def countCharacter(filename):\n",
        "  f = open(filename,\"r\")\n",
        "  if f.mode ==\"r\":\n",
        "    x = f.read()\n",
        "    lst = list(x)\n",
        "  return len(lst)\n",
        "print(countCharacter(\"file1.txt\"))"
      ],
      "execution_count": 0,
      "outputs": [
        {
          "output_type": "stream",
          "text": [
            "151\n"
          ],
          "name": "stdout"
        }
      ]
    },
    {
      "cell_type": "code",
      "metadata": {
        "id": "VVln-MM-H_h_",
        "colab_type": "code",
        "outputId": "d6ec2fa3-2f23-4a58-d602-fbf4f3a94278",
        "colab": {
          "base_uri": "https://localhost:8080/",
          "height": 34
        }
      },
      "source": [
        "def countUpperCharacter(filename):\n",
        "  f = open(filename,\"r\")\n",
        "  count =0\n",
        "  if f.mode ==\"r\":\n",
        "    x = f.read()\n",
        "    lst = list(x)\n",
        "  for i in lst:\n",
        "    if i.isupper():\n",
        "      count = count +1\n",
        "  return count   \n",
        "print(countUpperCharacter(\"file1.txt\"))\n",
        "    "
      ],
      "execution_count": 0,
      "outputs": [
        {
          "output_type": "stream",
          "text": [
            "22\n"
          ],
          "name": "stdout"
        }
      ]
    },
    {
      "cell_type": "code",
      "metadata": {
        "id": "LuwgNMZrKITw",
        "colab_type": "code",
        "outputId": "0b871f61-1997-4080-f9a2-e6b181016cde",
        "colab": {
          "base_uri": "https://localhost:8080/",
          "height": 34
        }
      },
      "source": [
        "def countlowerCharacter(filename):\n",
        "  f = open(filename,\"r\")\n",
        "  count =0\n",
        "  if f.mode ==\"r\":\n",
        "    x = f.read()\n",
        "    lst = list(x)\n",
        "  for i in lst:\n",
        "    if i.islower():\n",
        "      count = count +1\n",
        "  return count   \n",
        "print(countlowerCharacter(\"file1.txt\"))\n",
        "    "
      ],
      "execution_count": 0,
      "outputs": [
        {
          "output_type": "stream",
          "text": [
            "72\n"
          ],
          "name": "stdout"
        }
      ]
    },
    {
      "cell_type": "code",
      "metadata": {
        "id": "Mr5SIi50LOPq",
        "colab_type": "code",
        "outputId": "1c874b26-9987-4e4e-fc81-bd41846b48f7",
        "colab": {
          "base_uri": "https://localhost:8080/",
          "height": 34
        }
      },
      "source": [
        "def countspaceCharacter(filename):\n",
        "  f = open(filename,\"r\")\n",
        "  count =0\n",
        "  if f.mode ==\"r\":\n",
        "    x = f.read()\n",
        "    lst = list(x)\n",
        "  for i in lst:\n",
        "    if i.isspace():\n",
        "      count = count +1\n",
        "  return count   \n",
        "print(countspaceCharacter(\"file1.txt\"))"
      ],
      "execution_count": 0,
      "outputs": [
        {
          "output_type": "stream",
          "text": [
            "45\n"
          ],
          "name": "stdout"
        }
      ]
    },
    {
      "cell_type": "code",
      "metadata": {
        "id": "Fhoi3d27Lx5R",
        "colab_type": "code",
        "outputId": "f6c2e902-2eaf-4aec-fe9d-cd486cdcdc55",
        "colab": {
          "base_uri": "https://localhost:8080/",
          "height": 34
        }
      },
      "source": [
        "def countTitleCharacter(filename):\n",
        "  f = open(filename,\"r\")\n",
        "  count =0\n",
        "  if f.mode ==\"r\":\n",
        "    x = f.read()\n",
        "    lst = list(x)\n",
        "  for i in lst:\n",
        "    if i.istitle():\n",
        "      count = count +1\n",
        "  return count   \n",
        "print(countTitleCharacter(\"file1.txt\"))"
      ],
      "execution_count": 0,
      "outputs": [
        {
          "output_type": "stream",
          "text": [
            "22\n"
          ],
          "name": "stdout"
        }
      ]
    },
    {
      "cell_type": "code",
      "metadata": {
        "id": "1WwvPNjQMClX",
        "colab_type": "code",
        "outputId": "becbea91-c21d-4d8b-97bc-ec3eaa55c83e",
        "colab": {
          "base_uri": "https://localhost:8080/",
          "height": 34
        }
      },
      "source": [
        "def countalphaCharacter(filename):\n",
        "  f = open(filename,\"r\")\n",
        "  count =0\n",
        "  if f.mode ==\"r\":\n",
        "    x = f.read()\n",
        "    lst = list(x)\n",
        "  for i in lst:\n",
        "    if i.isalpha():\n",
        "      count = count +1\n",
        "  return count   \n",
        "print(countalphaCharacter(\"file1.txt\"))"
      ],
      "execution_count": 0,
      "outputs": [
        {
          "output_type": "stream",
          "text": [
            "94\n"
          ],
          "name": "stdout"
        }
      ]
    },
    {
      "cell_type": "code",
      "metadata": {
        "id": "_esslOU5MMTo",
        "colab_type": "code",
        "outputId": "fec48ee7-64c2-49ad-af21-84f88f790645",
        "colab": {
          "base_uri": "https://localhost:8080/",
          "height": 34
        }
      },
      "source": [
        "def countNumericCharacter(filename):\n",
        "  f = open(filename,\"r\")\n",
        "  count =0\n",
        "  if f.mode ==\"r\":\n",
        "    x = f.read()\n",
        "    lst = list(x)\n",
        "  for i in lst:\n",
        "    if i.isnumeric():\n",
        "      count = count +1\n",
        "  return count   \n",
        "print(countNumericCharacter(\"file1.txt\"))"
      ],
      "execution_count": 0,
      "outputs": [
        {
          "output_type": "stream",
          "text": [
            "12\n"
          ],
          "name": "stdout"
        }
      ]
    },
    {
      "cell_type": "code",
      "metadata": {
        "id": "fKvew9vCMVWX",
        "colab_type": "code",
        "outputId": "74c3f030-a56f-48d0-a871-8ab2b62c6e94",
        "colab": {
          "base_uri": "https://localhost:8080/",
          "height": 34
        }
      },
      "source": [
        " def countLines(filename):\n",
        "  f = open(filename,\"r\")\n",
        "  if f.mode ==\"r\":\n",
        "    x = f.read()\n",
        "    lst = x.split(\"\\n\")\n",
        "  return len(lst)\n",
        "countLines(\"file1.txt\")"
      ],
      "execution_count": 0,
      "outputs": [
        {
          "output_type": "execute_result",
          "data": {
            "text/plain": [
              "13"
            ]
          },
          "metadata": {
            "tags": []
          },
          "execution_count": 22
        }
      ]
    },
    {
      "cell_type": "markdown",
      "metadata": {
        "id": "Sasr-pqoRu9q",
        "colab_type": "text"
      },
      "source": [
        "# Regular Expressions:\n",
        "\n",
        "\n",
        "* Pattern Matching\n",
        "\n",
        "\n",
        "* Symbolic Notation of a pattren\n",
        "\n",
        "\n",
        "\n",
        "*   cap symbol is used for start of  regular expression\n",
        "*   Dollar symbol is used to end of the regular expression\n",
        "* ^[0-9]{3}$ --->  Regular Expression will accept only three digit number\n",
        "* [a-z]{5}$ --->  It only accept the 5 Charcter string that to lower case characters\n",
        "\n"
      ]
    },
    {
      "cell_type": "markdown",
      "metadata": {
        "id": "eber3PAXtYXc",
        "colab_type": "text"
      },
      "source": [
        ""
      ]
    },
    {
      "cell_type": "code",
      "metadata": {
        "id": "qd0WZzVcO_CB",
        "colab_type": "code",
        "outputId": "fbde22ab-92f9-48d9-d587-e4ae193692e7",
        "colab": {
          "base_uri": "https://localhost:8080/",
          "height": 67
        }
      },
      "source": [
        "import re\n",
        "def phoneNumberValidity(phone):\n",
        "  pattern = '^[6-9][0-9]{9}$|'\n",
        "  phone = str(phone)\n",
        "  if re.match(pattern,phone):\n",
        "    return True\n",
        "  return False\n",
        "print(phoneNumberValidity(9876565667))\n",
        "print(phoneNumberValidity(987678886))\n",
        "print(phoneNumberValidity(5876565667))"
      ],
      "execution_count": 0,
      "outputs": [
        {
          "output_type": "stream",
          "text": [
            "True\n",
            "False\n",
            "False\n"
          ],
          "name": "stdout"
        }
      ]
    },
    {
      "cell_type": "code",
      "metadata": {
        "id": "kKrNRUIJPEma",
        "colab_type": "code",
        "outputId": "c35e60cb-9974-4666-b972-082504ccf245",
        "colab": {
          "base_uri": "https://localhost:8080/",
          "height": 34
        }
      },
      "source": [
        "def validateRollNumber(number):\n",
        "  number = str(number)\n",
        "  pattern = \"^[2][2][1][8][1][0][3][0][A][2][0][0-9][0-9]$\"\n",
        "  if re.match(pattern,number):\n",
        "    return True\n",
        "  return False\n",
        "print(validateRollNumber(\"22181030A2004\"))"
      ],
      "execution_count": 0,
      "outputs": [
        {
          "output_type": "stream",
          "text": [
            "True\n"
          ],
          "name": "stdout"
        }
      ]
    },
    {
      "cell_type": "code",
      "metadata": {
        "id": "kwytFDkW1v_I",
        "colab_type": "code",
        "outputId": "4a20771d-cc95-4dee-9912-943c51fe5b35",
        "colab": {
          "base_uri": "https://localhost:8080/",
          "height": 34
        }
      },
      "source": [
        "import re \n",
        "def validateEmailID(email):\n",
        "  pattern = \"^[0-9a-z][0-9a-z.]{4,13}[0-9a-z][@][a-z0-9]{3,18}[.][a-z]{2,4}$\"\n",
        "  if re.match(pattern,email):\n",
        "    return True\n",
        "  return False\n",
        "print(validateEmailID(\"chotu.1995@gmail.com\"))"
      ],
      "execution_count": 0,
      "outputs": [
        {
          "output_type": "stream",
          "text": [
            "True\n"
          ],
          "name": "stdout"
        }
      ]
    },
    {
      "cell_type": "code",
      "metadata": {
        "id": "yoiM9idr6if-",
        "colab_type": "code",
        "colab": {}
      },
      "source": [
        "import re\n",
        "def validatePasseord(s):\n",
        "  pattern = \"^[a-zA-Z0-9!@#$]{6,15}\"\n",
        "  if re.match(pattern,s):\n",
        "    return True\n",
        "  return False\n"
      ],
      "execution_count": 0,
      "outputs": []
    }
  ]
}