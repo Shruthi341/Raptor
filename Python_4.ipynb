{
  "nbformat": 4,
  "nbformat_minor": 0,
  "metadata": {
    "colab": {
      "name": "Python 4.ipynb",
      "version": "0.3.2",
      "provenance": [],
      "include_colab_link": true
    },
    "kernelspec": {
      "name": "python3",
      "display_name": "Python 3"
    }
  },
  "cells": [
    {
      "cell_type": "markdown",
      "metadata": {
        "id": "view-in-github",
        "colab_type": "text"
      },
      "source": [
        "<a href=\"https://colab.research.google.com/github/Shruthi341/Raptor/blob/master/Python_4.ipynb\" target=\"_parent\"><img src=\"https://colab.research.google.com/assets/colab-badge.svg\" alt=\"Open In Colab\"/></a>"
      ]
    },
    {
      "cell_type": "markdown",
      "metadata": {
        "id": "XNULmayveJx-",
        "colab_type": "text"
      },
      "source": [
        "# **Boolean Method**"
      ]
    },
    {
      "cell_type": "markdown",
      "metadata": {
        "id": "D0-Gb6I2ePuN",
        "colab_type": "text"
      },
      "source": [
        "**islower( )** --  method returns output either true or false\n",
        "\n",
        "**isupper()**\n",
        "\n",
        "**isnumeric()**\n",
        "\n",
        "**isalpha()**\n",
        "\n",
        "**istitle()**\n",
        "\n",
        "**isspace()**\n"
      ]
    },
    {
      "cell_type": "code",
      "metadata": {
        "id": "UMPuFYN0fBa6",
        "colab_type": "code",
        "outputId": "314b06c8-6fd6-4dd7-cbe8-c0652fa5d986",
        "colab": {
          "base_uri": "https://localhost:8080/",
          "height": 50
        }
      },
      "source": [
        "s = \"Python is Easy and intresting\"\n",
        "s1 = 'python'\n",
        "print(s.islower())\n",
        "print(s1.islower())"
      ],
      "execution_count": 0,
      "outputs": [
        {
          "output_type": "stream",
          "text": [
            "False\n",
            "True\n"
          ],
          "name": "stdout"
        }
      ]
    },
    {
      "cell_type": "code",
      "metadata": {
        "id": "-fC4cKe8fWvQ",
        "colab_type": "code",
        "outputId": "e7579989-5014-4c96-ec45-cd9b540bd927",
        "colab": {
          "base_uri": "https://localhost:8080/",
          "height": 67
        }
      },
      "source": [
        "s = \"Application\"\n",
        "s1 = 'ANIL'\n",
        "print(s.upper())\n",
        "print(s.isupper())\n",
        "print(s1.isupper())"
      ],
      "execution_count": 0,
      "outputs": [
        {
          "output_type": "stream",
          "text": [
            "APPLICATION\n",
            "False\n",
            "True\n"
          ],
          "name": "stdout"
        }
      ]
    },
    {
      "cell_type": "code",
      "metadata": {
        "id": "-QIb8XI6f2L-",
        "colab_type": "code",
        "outputId": "08bec78d-8737-451d-dc23-e32a3f6872bc",
        "colab": {
          "base_uri": "https://localhost:8080/",
          "height": 84
        }
      },
      "source": [
        "a = \"application22\"\n",
        "a1 = \"1234\"\n",
        "print(a.isalpha())\n",
        "print(a.isnumeric())\n",
        "print(a1.isalpha())\n",
        "print(a1.isnumeric())"
      ],
      "execution_count": 0,
      "outputs": [
        {
          "output_type": "stream",
          "text": [
            "False\n",
            "False\n",
            "False\n",
            "True\n"
          ],
          "name": "stdout"
        }
      ]
    },
    {
      "cell_type": "code",
      "metadata": {
        "id": "y8VpX910hNWU",
        "colab_type": "code",
        "outputId": "193866a4-ca03-41c9-bf89-608d940ddbca",
        "colab": {
          "base_uri": "https://localhost:8080/",
          "height": 34
        }
      },
      "source": [
        "a = \"Aplication Fm\"\n",
        "print(a.istitle())"
      ],
      "execution_count": 0,
      "outputs": [
        {
          "output_type": "stream",
          "text": [
            "True\n"
          ],
          "name": "stdout"
        }
      ]
    },
    {
      "cell_type": "markdown",
      "metadata": {
        "id": "sT8t1H9fkwnp",
        "colab_type": "text"
      },
      "source": [
        "# String Methods"
      ]
    },
    {
      "cell_type": "markdown",
      "metadata": {
        "id": "W3goQXzmk3Mh",
        "colab_type": "text"
      },
      "source": [
        "\n",
        "\n",
        "*   join()\n",
        "*   split()\n",
        "\n"
      ]
    },
    {
      "cell_type": "code",
      "metadata": {
        "id": "1NtuWOzUiNXZ",
        "colab_type": "code",
        "outputId": "ee74c035-6860-46ff-98b7-df42c64ca709",
        "colab": {
          "base_uri": "https://localhost:8080/",
          "height": 34
        }
      },
      "source": [
        "print(\",\".join([\"Python\",\"Programming\",\"Course\"]))"
      ],
      "execution_count": 0,
      "outputs": [
        {
          "output_type": "stream",
          "text": [
            "Python,Programming,Course\n"
          ],
          "name": "stdout"
        }
      ]
    },
    {
      "cell_type": "code",
      "metadata": {
        "id": "S9Yx6vrRkmEm",
        "colab_type": "code",
        "outputId": "fe07dc8a-9816-4f8e-9d91-935f22aaacf7",
        "colab": {
          "base_uri": "https://localhost:8080/",
          "height": 67
        }
      },
      "source": [
        "lst = [\"\",\"\"]\n",
        "print(\",\".join(lst))\n",
        "str =\"Python\"\n",
        "print(\" \".join(str))\n",
        "str =\"Python\"\n",
        "print(\",\".join(str))"
      ],
      "execution_count": 0,
      "outputs": [
        {
          "output_type": "stream",
          "text": [
            ",\n",
            "P y t h o n\n",
            "P,y,t,h,o,n\n"
          ],
          "name": "stdout"
        }
      ]
    },
    {
      "cell_type": "code",
      "metadata": {
        "id": "E42JYD33lSjc",
        "colab_type": "code",
        "outputId": "316da99a-c965-4b03-81c3-96c04506f936",
        "colab": {
          "base_uri": "https://localhost:8080/",
          "height": 50
        }
      },
      "source": [
        "s = \"Python is easy to learn \"\n",
        "print(s.split(\"e\"))\n",
        "print(s.split())\n"
      ],
      "execution_count": 0,
      "outputs": [
        {
          "output_type": "stream",
          "text": [
            "['Python is ', 'asy to l', 'arn ']\n",
            "['Python', 'is', 'easy', 'to', 'learn']\n"
          ],
          "name": "stdout"
        }
      ]
    },
    {
      "cell_type": "code",
      "metadata": {
        "id": "XDNAwO5JmXbR",
        "colab_type": "code",
        "outputId": "0f42a60f-9b49-47ff-a1d8-1840df56d77a",
        "colab": {
          "base_uri": "https://localhost:8080/",
          "height": 50
        }
      },
      "source": [
        "s1 = \"Shruthi is a good girl\"\n",
        "lit=s1.split()\n",
        "#list=s1.index(\"shu\")\n",
        "print(lit.index(\"is\"))\n",
        "print(s1.index(\"is\"))"
      ],
      "execution_count": 0,
      "outputs": [
        {
          "output_type": "stream",
          "text": [
            "1\n",
            "8\n"
          ],
          "name": "stdout"
        }
      ]
    },
    {
      "cell_type": "markdown",
      "metadata": {
        "id": "oM8Th9JzuzFk",
        "colab_type": "text"
      },
      "source": [
        "# Pyhton -- Tuples\n",
        "\n",
        "A tuple of seq of set of objects is like list only \n",
        "\n",
        "The difference of list and tuples are , the tuples cannot unlike list \n",
        "\n",
        "List will use square brackets hold objects [ ]\n",
        "\n",
        "\n",
        "tuple will use parentheses to hold objects ()\n",
        "\n",
        "\n",
        "\n",
        "\n",
        "\n"
      ]
    },
    {
      "cell_type": "code",
      "metadata": {
        "id": "kdim6I5-pR11",
        "colab_type": "code",
        "outputId": "24ca829c-0292-41fe-8b94-1ccc94af95d0",
        "colab": {
          "base_uri": "https://localhost:8080/",
          "height": 50
        }
      },
      "source": [
        "t1 = (\"Python\",\"Programming\",\"19000\",\"7854\",\"Machine Learning\")\n",
        "t2 = (1,2,3,4,5,)\n",
        "print(t1)\n",
        "print(t2)"
      ],
      "execution_count": 0,
      "outputs": [
        {
          "output_type": "stream",
          "text": [
            "('Python', 'Programming', '19000', '7854', 'Machine Learning')\n",
            "(1, 2, 3, 4, 5)\n"
          ],
          "name": "stdout"
        }
      ]
    },
    {
      "cell_type": "code",
      "metadata": {
        "id": "tW1sb_pwwlO_",
        "colab_type": "code",
        "outputId": "fec568b9-864a-4ef4-e917-425e3c1651cb",
        "colab": {
          "base_uri": "https://localhost:8080/",
          "height": 101
        }
      },
      "source": [
        "t1 = (\"Python\",\"Programming\",\"19000\",\"7854\",\"Machine Learning\")\n",
        "print(\"t1[0] =\",t1[0])\n",
        "print(\"t1[2]=\",t1[2])\n",
        "print(\"t1[2:-1]=\",t1[2:-1])\n",
        "print(t1)\n",
        "del t1\n",
        "t1 = (\"ppp\")\n",
        "print(t1)\n"
      ],
      "execution_count": 0,
      "outputs": [
        {
          "output_type": "stream",
          "text": [
            "t1[0] = Python\n",
            "t1[2]= 19000\n",
            "t1[2:-1]= ('19000', '7854')\n",
            "('Python', 'Programming', '19000', '7854', 'Machine Learning')\n",
            "ppp\n"
          ],
          "name": "stdout"
        }
      ]
    },
    {
      "cell_type": "code",
      "metadata": {
        "id": "ztlpaP-vxAD3",
        "colab_type": "code",
        "outputId": "165927c6-a55f-46a0-a148-f64a585e894e",
        "colab": {
          "base_uri": "https://localhost:8080/",
          "height": 34
        }
      },
      "source": [
        "t1 = (\"Python\",\"Programming\",19000,7854,\"Machine Learning\")\n",
        "t2 = (\"ppp\",\"up\")\n",
        "t3 = t1 + t2\n",
        "print(t3)"
      ],
      "execution_count": 0,
      "outputs": [
        {
          "output_type": "stream",
          "text": [
            "('Python', 'Programming', 19000, 7854, 'Machine Learning', 'ppp', 'up')\n"
          ],
          "name": "stdout"
        }
      ]
    },
    {
      "cell_type": "markdown",
      "metadata": {
        "id": "xCyVMhtI1W9j",
        "colab_type": "text"
      },
      "source": [
        "# Tuple Methods\n",
        "\n",
        "**1.len(tuple)**  :- len of the tuple\n",
        "\n",
        "**2.max(tuple)** :- return the max value from tuple\n",
        "\n",
        "**3.min(tuple)** :- return the min value from tuple"
      ]
    },
    {
      "cell_type": "code",
      "metadata": {
        "id": "iltlHw-dznoZ",
        "colab_type": "code",
        "outputId": "2f7a4dbe-7ae8-4016-d514-bf83ff76c9da",
        "colab": {
          "base_uri": "https://localhost:8080/",
          "height": 67
        }
      },
      "source": [
        "t1 = (\"Python\",\"Programming\",19000,7854,\"Machine Learning\")\n",
        "print(len(t1))\n",
        "t2 = (1,2,3,4,5,45,90,33,41)\n",
        "print(max(t2))\n",
        "print(min(t2))"
      ],
      "execution_count": 0,
      "outputs": [
        {
          "output_type": "stream",
          "text": [
            "5\n",
            "90\n",
            "1\n"
          ],
          "name": "stdout"
        }
      ]
    },
    {
      "cell_type": "code",
      "metadata": {
        "id": "RgndlD-U133l",
        "colab_type": "code",
        "outputId": "8b4e4d69-be5b-427d-b4be-c3407152d811",
        "colab": {
          "base_uri": "https://localhost:8080/",
          "height": 50
        }
      },
      "source": [
        "t1 =(2,3,5,6)\n",
        "t2 = (2,3,5,6)\n",
        "print(t1)\n",
        "print(t2)\n"
      ],
      "execution_count": 0,
      "outputs": [
        {
          "output_type": "stream",
          "text": [
            "(2, 3, 5, 6)\n",
            "(2, 3, 5, 6)\n"
          ],
          "name": "stdout"
        }
      ]
    },
    {
      "cell_type": "code",
      "metadata": {
        "id": "pTizenh4Druo",
        "colab_type": "code",
        "outputId": "09e399e2-4f4a-41f2-f926-2608bc2ac91b",
        "colab": {
          "base_uri": "https://localhost:8080/",
          "height": 87
        }
      },
      "source": [
        "user1 = {'Name':'Anil','Age':22,'EmailID':'anil@gamil.com','MobileNumber':'9909485770'}\n",
        "print(len(user1))\n",
        "user1['Address']='vkb'\n",
        "print(len(user1))\n",
        "user2=user1.copy()\n",
        "print(user2)"
      ],
      "execution_count": 0,
      "outputs": [
        {
          "output_type": "stream",
          "text": [
            "4\n",
            "5\n",
            "{'Name': 'Anil', 'Age': 22, 'EmailID': 'anil@gamil.com', 'MobileNumber': '9909485770', 'Address': 'vkb'}\n"
          ],
          "name": "stdout"
        }
      ]
    },
    {
      "cell_type": "code",
      "metadata": {
        "id": "iBrRXQpZG6E_",
        "colab_type": "code",
        "outputId": "8f5737eb-f8f1-4095-8656-80faae56587b",
        "colab": {
          "base_uri": "https://localhost:8080/",
          "height": 67
        }
      },
      "source": [
        "user1 = {'Name':'Anil','Age':22,'EmailID':'anil@gamil.com','MobileNumber':'9909485770'}\n",
        "user2 = user1.copy()\n",
        "print(user1.values())\n",
        "print(user2.values())\n",
        "print(user1.keys())\n",
        "  "
      ],
      "execution_count": 0,
      "outputs": [
        {
          "output_type": "stream",
          "text": [
            "dict_values(['Anil', 22, 'anil@gamil.com', '9909485770'])\n",
            "dict_values(['Anil', 22, 'anil@gamil.com', '9909485770'])\n",
            "dict_keys(['Name', 'Age', 'EmailID', 'MobileNumber'])\n"
          ],
          "name": "stdout"
        }
      ]
    },
    {
      "cell_type": "markdown",
      "metadata": {
        "id": "OCgNzR4DM-q2",
        "colab_type": "text"
      },
      "source": [
        "# String Formatting\n",
        "\n",
        "%s"
      ]
    },
    {
      "cell_type": "code",
      "metadata": {
        "id": "eYFPZqtKLqAT",
        "colab_type": "code",
        "outputId": "a2ffb8cc-1513-4da1-8c0d-ef407b6010d6",
        "colab": {
          "base_uri": "https://localhost:8080/",
          "height": 34
        }
      },
      "source": [
        "lst = ['Python','Programming']\n",
        "print(\"%s %s\"%(lst[0],lst[1]))\n"
      ],
      "execution_count": 0,
      "outputs": [
        {
          "output_type": "stream",
          "text": [
            "Python Programming\n"
          ],
          "name": "stdout"
        }
      ]
    },
    {
      "cell_type": "code",
      "metadata": {
        "id": "puQLXOGfNX-J",
        "colab_type": "code",
        "outputId": "1fce1c94-3da4-4b58-d357-d0a23a666c14",
        "colab": {
          "base_uri": "https://localhost:8080/",
          "height": 67
        }
      },
      "source": [
        "contacts = {}\n",
        "def addContact(name,phone):\n",
        "  if name not in contacts :\n",
        "    contacts[name] = phone\n",
        "    print(\"Contact %s added \" % name)\n",
        "  else:\n",
        "    print(\"Contact %s already exists\" % name)\n",
        "  return  \n",
        "addContact(\"Anil\",9859686891)\n",
        "addContact(\"Srikanth\",8008091198)\n",
        "addContact(\"Noddy\",9859686654)"
      ],
      "execution_count": 0,
      "outputs": [
        {
          "output_type": "stream",
          "text": [
            "Contact Anil added \n",
            "Contact Srikanth added \n",
            "Contact Noddy added \n"
          ],
          "name": "stdout"
        }
      ]
    },
    {
      "cell_type": "code",
      "metadata": {
        "id": "qYg2MdYujw8t",
        "colab_type": "code",
        "outputId": "2771a3a6-ea25-4484-b286-bba7975b4201",
        "colab": {
          "base_uri": "https://localhost:8080/",
          "height": 67
        }
      },
      "source": [
        "def searchContact(name):\n",
        "  if name in contacts:\n",
        "    print(name, \": \",contacts[name])\n",
        "  else:\n",
        "    print(\" %s does not exsits\" % name)\n",
        "  return\n",
        "searchContact(\"Anil\")\n",
        "searchContact(\"Ajay\")\n",
        "searchContact(\"Srikanth\")"
      ],
      "execution_count": 0,
      "outputs": [
        {
          "output_type": "stream",
          "text": [
            "Anil :  9859686891\n",
            " Ajay does not exsits\n",
            "Srikanth :  8008091198\n"
          ],
          "name": "stdout"
        }
      ]
    },
    {
      "cell_type": "code",
      "metadata": {
        "id": "Pn44pZnBmiX9",
        "colab_type": "code",
        "outputId": "69cee220-954b-4921-cfc2-db3e8d6aa0f5",
        "colab": {
          "base_uri": "https://localhost:8080/",
          "height": 34
        }
      },
      "source": [
        "def importContacts(newContacts):\n",
        "  contacts.update(newContacts)\n",
        "  print(len(newContacts.keys()),\"Contacts added succesfully\")\n",
        "  return\n",
        "newContacts = {'Monkey':9048475675,'Donkey':89475634884}\n",
        "importContacts(newContacts)"
      ],
      "execution_count": 0,
      "outputs": [
        {
          "output_type": "stream",
          "text": [
            "2 Contacts added succesfully\n"
          ],
          "name": "stdout"
        }
      ]
    },
    {
      "cell_type": "code",
      "metadata": {
        "id": "okSA9PJhqTPi",
        "colab_type": "code",
        "outputId": "dbdc14e0-3eb9-495e-a080-c68f3deab746",
        "colab": {
          "base_uri": "https://localhost:8080/",
          "height": 54
        }
      },
      "source": [
        "print(contacts)"
      ],
      "execution_count": 0,
      "outputs": [
        {
          "output_type": "stream",
          "text": [
            "{'Anil': 9859686891, 'Srikanth': 8008091198, 'Noddy': 9859686654, 'Monkey': 9048475675, 'Donkey': 89475634884}\n"
          ],
          "name": "stdout"
        }
      ]
    },
    {
      "cell_type": "code",
      "metadata": {
        "id": "JuZhEXEsqrTq",
        "colab_type": "code",
        "outputId": "4a0c0827-794f-47f5-c45b-6560794ea80e",
        "colab": {
          "base_uri": "https://localhost:8080/",
          "height": 50
        }
      },
      "source": [
        "def deleteContact(name):\n",
        "  if name in contacts:\n",
        "    del contacts[name]\n",
        "    print(name,\": is deleted from th contacts\")\n",
        "  else:\n",
        "    print(name,\" is not exists in the contacts\")\n",
        "  return\n",
        "deleteContact(\"Anil\")\n",
        "deleteContact(\"Pig\")"
      ],
      "execution_count": 0,
      "outputs": [
        {
          "output_type": "stream",
          "text": [
            "Anil  is not exists in the contacts\n",
            "Pig  is not exists in the contacts\n"
          ],
          "name": "stdout"
        }
      ]
    },
    {
      "cell_type": "code",
      "metadata": {
        "id": "PIrWadhcs7n-",
        "colab_type": "code",
        "outputId": "a8a5cb17-a8ba-4ec7-a297-fe267d7f020e",
        "colab": {
          "base_uri": "https://localhost:8080/",
          "height": 54
        }
      },
      "source": [
        "print(contacts)"
      ],
      "execution_count": 0,
      "outputs": [
        {
          "output_type": "stream",
          "text": [
            "{'Srikanth': 8008091198, 'Noddy': 9859686654, 'Monkey': 9048475675, 'Donkey': 89475634884}\n"
          ],
          "name": "stdout"
        }
      ]
    },
    {
      "cell_type": "code",
      "metadata": {
        "id": "boiZ9v_nuu8b",
        "colab_type": "code",
        "outputId": "d29a6c1f-2b14-43db-8cc8-cc2fb9297f39",
        "colab": {
          "base_uri": "https://localhost:8080/",
          "height": 50
        }
      },
      "source": [
        "def updateContact(name,phone):\n",
        "  if name in contacts:\n",
        "    contacts[name] = phone\n",
        "    print(name,\": is updated with new no.\")\n",
        "  else:\n",
        "    print(name,\" : is not exists in the contacts\")\n",
        "  return\n",
        "updateContact(\"Noddy\",9897463623)\n",
        "updateContact(\"Pig\",6674940220)"
      ],
      "execution_count": 0,
      "outputs": [
        {
          "output_type": "stream",
          "text": [
            "Noddy : is updated with new no.\n",
            "Pig  : is not exists in the contacts\n"
          ],
          "name": "stdout"
        }
      ]
    },
    {
      "cell_type": "markdown",
      "metadata": {
        "id": "Wu5WOGQez9Jy",
        "colab_type": "text"
      },
      "source": [
        "# Pakages and Modules\n",
        "**Sub Packages** :-Its part of Main Package\n",
        "****"
      ]
    },
    {
      "cell_type": "code",
      "metadata": {
        "id": "SWppP729wiE2",
        "colab_type": "code",
        "colab": {}
      },
      "source": [
        ""
      ],
      "execution_count": 0,
      "outputs": []
    }
  ]
}