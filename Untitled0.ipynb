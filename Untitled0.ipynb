{
  "nbformat": 4,
  "nbformat_minor": 0,
  "metadata": {
    "colab": {
      "name": "Untitled0.ipynb",
      "version": "0.3.2",
      "provenance": [],
      "include_colab_link": true
    },
    "kernelspec": {
      "name": "python3",
      "display_name": "Python 3"
    }
  },
  "cells": [
    {
      "cell_type": "markdown",
      "metadata": {
        "id": "view-in-github",
        "colab_type": "text"
      },
      "source": [
        "<a href=\"https://colab.research.google.com/github/Shruthi341/Raptor/blob/master/Untitled0.ipynb\" target=\"_parent\"><img src=\"https://colab.research.google.com/assets/colab-badge.svg\" alt=\"Open In Colab\"/></a>"
      ]
    },
    {
      "cell_type": "markdown",
      "metadata": {
        "id": "Wjlx1W4r7j1b",
        "colab_type": "text"
      },
      "source": [
        ""
      ]
    },
    {
      "cell_type": "code",
      "metadata": {
        "id": "JHMN9PbA7iub",
        "colab_type": "code",
        "outputId": "9f15cb19-60d3-434c-b523-124e2e14d171",
        "colab": {
          "base_uri": "https://localhost:8080/",
          "height": 134
        }
      },
      "source": [
        "import pandas as pd\n",
        "a = pd.Series([1,3,4,5,6,7])\n",
        "print(a)"
      ],
      "execution_count": 0,
      "outputs": [
        {
          "output_type": "stream",
          "text": [
            "0    1\n",
            "1    3\n",
            "2    4\n",
            "3    5\n",
            "4    6\n",
            "5    7\n",
            "dtype: int64\n"
          ],
          "name": "stdout"
        }
      ]
    },
    {
      "cell_type": "code",
      "metadata": {
        "id": "XyuyYykU9W_Y",
        "colab_type": "code",
        "outputId": "2e36563f-6d10-48bb-b36d-0a4931a92a73",
        "colab": {
          "base_uri": "https://localhost:8080/",
          "height": 134
        }
      },
      "source": [
        "import numpy as np\n",
        "a1 = pd.Series([1,2,3,4,np.nan,6])\n",
        "print(a1)"
      ],
      "execution_count": 0,
      "outputs": [
        {
          "output_type": "stream",
          "text": [
            "0    1.0\n",
            "1    2.0\n",
            "2    3.0\n",
            "3    4.0\n",
            "4    NaN\n",
            "5    6.0\n",
            "dtype: float64\n"
          ],
          "name": "stdout"
        }
      ]
    },
    {
      "cell_type": "code",
      "metadata": {
        "id": "gi0rJHEt9toh",
        "colab_type": "code",
        "outputId": "71f8f058-b89c-4354-cf10-be1f90b8ed7a",
        "colab": {
          "base_uri": "https://localhost:8080/",
          "height": 118
        }
      },
      "source": [
        "#Create a list of dates with in particular range\n",
        "dates = pd.date_range('20190601',periods=20)\n",
        "\n",
        "print(dates)"
      ],
      "execution_count": 0,
      "outputs": [
        {
          "output_type": "stream",
          "text": [
            "DatetimeIndex(['2019-06-01', '2019-06-02', '2019-06-03', '2019-06-04',\n",
            "               '2019-06-05', '2019-06-06', '2019-06-07', '2019-06-08',\n",
            "               '2019-06-09', '2019-06-10', '2019-06-11', '2019-06-12',\n",
            "               '2019-06-13', '2019-06-14', '2019-06-15', '2019-06-16',\n",
            "               '2019-06-17', '2019-06-18', '2019-06-19', '2019-06-20'],\n",
            "              dtype='datetime64[ns]', freq='D')\n"
          ],
          "name": "stdout"
        }
      ]
    },
    {
      "cell_type": "code",
      "metadata": {
        "id": "IX_3jY18_LyX",
        "colab_type": "code",
        "outputId": "2d96e90b-98de-4e46-d01c-5853bf4cbac9",
        "colab": {
          "base_uri": "https://localhost:8080/",
          "height": 67
        }
      },
      "source": [
        "lst = pd.date_range('20190601',periods = 5)\n",
        "print(lst)"
      ],
      "execution_count": 0,
      "outputs": [
        {
          "output_type": "stream",
          "text": [
            "DatetimeIndex(['2019-06-01', '2019-06-02', '2019-06-03', '2019-06-04',\n",
            "               '2019-06-05'],\n",
            "              dtype='datetime64[ns]', freq='D')\n"
          ],
          "name": "stdout"
        }
      ]
    },
    {
      "cell_type": "code",
      "metadata": {
        "id": "iwXKa8F0BeJ7",
        "colab_type": "code",
        "colab": {}
      },
      "source": [
        "a2 = pd.DataFrame(np.random.randn(6,4),index       )"
      ],
      "execution_count": 0,
      "outputs": []
    },
    {
      "cell_type": "code",
      "metadata": {
        "id": "wiTAURdyCS7X",
        "colab_type": "code",
        "outputId": "e37373a1-e285-4892-a1d1-64ce96db13b0",
        "colab": {
          "base_uri": "https://localhost:8080/",
          "height": 229
        }
      },
      "source": [
        "a3 = pd.DataFrame({'A':1.,\n",
        "                  'B':pd.TimeStamp('20190601'),\n",
        "                  'C':pd.Series(1,index=list(range(4)),dtype='float32'),\n",
        "                  'D':np.array([3]*4,dtype='int32'),\n",
        "                  'E':pd.Categorical([\"test\",\"train\",\"test\",\"train\"]),\n",
        "                  'F':'foo'})\n",
        "print(a3)"
      ],
      "execution_count": 0,
      "outputs": [
        {
          "output_type": "error",
          "ename": "AttributeError",
          "evalue": "ignored",
          "traceback": [
            "\u001b[0;31m---------------------------------------------------------------------------\u001b[0m",
            "\u001b[0;31mAttributeError\u001b[0m                            Traceback (most recent call last)",
            "\u001b[0;32m<ipython-input-9-d5ad45413804>\u001b[0m in \u001b[0;36m<module>\u001b[0;34m()\u001b[0m\n\u001b[1;32m      1\u001b[0m a3 = pd.DataFrame({'A':1.,\n\u001b[0;32m----> 2\u001b[0;31m                   \u001b[0;34m'B'\u001b[0m\u001b[0;34m:\u001b[0m\u001b[0mpd\u001b[0m\u001b[0;34m.\u001b[0m\u001b[0mTimeStamp\u001b[0m\u001b[0;34m(\u001b[0m\u001b[0;34m'20190601'\u001b[0m\u001b[0;34m)\u001b[0m\u001b[0;34m,\u001b[0m\u001b[0;34m\u001b[0m\u001b[0;34m\u001b[0m\u001b[0m\n\u001b[0m\u001b[1;32m      3\u001b[0m                   \u001b[0;34m'C'\u001b[0m\u001b[0;34m:\u001b[0m\u001b[0mpd\u001b[0m\u001b[0;34m.\u001b[0m\u001b[0mSeries\u001b[0m\u001b[0;34m(\u001b[0m\u001b[0;36m1\u001b[0m\u001b[0;34m,\u001b[0m\u001b[0mindex\u001b[0m\u001b[0;34m=\u001b[0m\u001b[0mlist\u001b[0m\u001b[0;34m(\u001b[0m\u001b[0mrange\u001b[0m\u001b[0;34m(\u001b[0m\u001b[0;36m4\u001b[0m\u001b[0;34m)\u001b[0m\u001b[0;34m)\u001b[0m\u001b[0;34m,\u001b[0m\u001b[0mdtype\u001b[0m\u001b[0;34m=\u001b[0m\u001b[0;34m'float32'\u001b[0m\u001b[0;34m)\u001b[0m\u001b[0;34m,\u001b[0m\u001b[0;34m\u001b[0m\u001b[0;34m\u001b[0m\u001b[0m\n\u001b[1;32m      4\u001b[0m                   \u001b[0;34m'D'\u001b[0m\u001b[0;34m:\u001b[0m\u001b[0mnp\u001b[0m\u001b[0;34m.\u001b[0m\u001b[0marray\u001b[0m\u001b[0;34m(\u001b[0m\u001b[0;34m[\u001b[0m\u001b[0;36m3\u001b[0m\u001b[0;34m]\u001b[0m\u001b[0;34m*\u001b[0m\u001b[0;36m4\u001b[0m\u001b[0;34m,\u001b[0m\u001b[0mdtype\u001b[0m\u001b[0;34m=\u001b[0m\u001b[0;34m'int32'\u001b[0m\u001b[0;34m)\u001b[0m\u001b[0;34m,\u001b[0m\u001b[0;34m\u001b[0m\u001b[0;34m\u001b[0m\u001b[0m\n\u001b[1;32m      5\u001b[0m                   \u001b[0;34m'E'\u001b[0m\u001b[0;34m:\u001b[0m\u001b[0mpd\u001b[0m\u001b[0;34m.\u001b[0m\u001b[0mCategorical\u001b[0m\u001b[0;34m(\u001b[0m\u001b[0;34m[\u001b[0m\u001b[0;34m\"test\"\u001b[0m\u001b[0;34m,\u001b[0m\u001b[0;34m\"train\"\u001b[0m\u001b[0;34m,\u001b[0m\u001b[0;34m\"test\"\u001b[0m\u001b[0;34m,\u001b[0m\u001b[0;34m\"train\"\u001b[0m\u001b[0;34m]\u001b[0m\u001b[0;34m)\u001b[0m\u001b[0;34m,\u001b[0m\u001b[0;34m\u001b[0m\u001b[0;34m\u001b[0m\u001b[0m\n",
            "\u001b[0;31mAttributeError\u001b[0m: module 'pandas' has no attribute 'TimeStamp'"
          ]
        }
      ]
    },
    {
      "cell_type": "markdown",
      "metadata": {
        "id": "D_tvrPf6Cxln",
        "colab_type": "text"
      },
      "source": [
        " # Turtle Graphics\n",
        "Turtle is a python feature like a drawing board\n",
        "\n",
        "\n",
        "Square,lines,stars,etc..\n",
        "\n",
        "\n",
        "Turtle()-- it creates and returns new object"
      ]
    },
    {
      "cell_type": "code",
      "metadata": {
        "id": "_4j5cX7cFB6F",
        "colab_type": "code",
        "colab": {
          "base_uri": "https://localhost:8080/",
          "height": 370
        },
        "outputId": "633d5bb4-30fd-4a57-fda4-e2a499bf0fbd"
      },
      "source": [
        "#Step 1: import all turtle package\n",
        "import turtle as tt\n",
        "#Turtle creates and returns object\n",
        "a1=tt.Turtle()\n",
        "#forward()method moves 100 pixels\n",
        "tt.forward(100)\n",
        "#we are done\n",
        "tt.done()"
      ],
      "execution_count": 2,
      "outputs": [
        {
          "output_type": "error",
          "ename": "TclError",
          "evalue": "ignored",
          "traceback": [
            "\u001b[0;31m---------------------------------------------------------------------------\u001b[0m",
            "\u001b[0;31mTclError\u001b[0m                                  Traceback (most recent call last)",
            "\u001b[0;32m<ipython-input-2-283cc548fd4d>\u001b[0m in \u001b[0;36m<module>\u001b[0;34m()\u001b[0m\n\u001b[1;32m      1\u001b[0m \u001b[0;32mimport\u001b[0m \u001b[0mturtle\u001b[0m \u001b[0;32mas\u001b[0m \u001b[0mtt\u001b[0m\u001b[0;34m\u001b[0m\u001b[0;34m\u001b[0m\u001b[0m\n\u001b[1;32m      2\u001b[0m \u001b[0;31m#Turtle creates and returns object\u001b[0m\u001b[0;34m\u001b[0m\u001b[0;34m\u001b[0m\u001b[0;34m\u001b[0m\u001b[0m\n\u001b[0;32m----> 3\u001b[0;31m \u001b[0ma1\u001b[0m\u001b[0;34m=\u001b[0m\u001b[0mtt\u001b[0m\u001b[0;34m.\u001b[0m\u001b[0mTurtle\u001b[0m\u001b[0;34m(\u001b[0m\u001b[0;34m)\u001b[0m\u001b[0;34m\u001b[0m\u001b[0;34m\u001b[0m\u001b[0m\n\u001b[0m\u001b[1;32m      4\u001b[0m \u001b[0;31m#forward()method moves 100 pixels\u001b[0m\u001b[0;34m\u001b[0m\u001b[0;34m\u001b[0m\u001b[0;34m\u001b[0m\u001b[0m\n\u001b[1;32m      5\u001b[0m \u001b[0mtt\u001b[0m\u001b[0;34m.\u001b[0m\u001b[0mforward\u001b[0m\u001b[0;34m(\u001b[0m\u001b[0;36m100\u001b[0m\u001b[0;34m)\u001b[0m\u001b[0;34m\u001b[0m\u001b[0;34m\u001b[0m\u001b[0m\n",
            "\u001b[0;32m/usr/lib/python3.6/turtle.py\u001b[0m in \u001b[0;36m__init__\u001b[0;34m(self, shape, undobuffersize, visible)\u001b[0m\n\u001b[1;32m   3810\u001b[0m                  visible=_CFG[\"visible\"]):\n\u001b[1;32m   3811\u001b[0m         \u001b[0;32mif\u001b[0m \u001b[0mTurtle\u001b[0m\u001b[0;34m.\u001b[0m\u001b[0m_screen\u001b[0m \u001b[0;32mis\u001b[0m \u001b[0;32mNone\u001b[0m\u001b[0;34m:\u001b[0m\u001b[0;34m\u001b[0m\u001b[0;34m\u001b[0m\u001b[0m\n\u001b[0;32m-> 3812\u001b[0;31m             \u001b[0mTurtle\u001b[0m\u001b[0;34m.\u001b[0m\u001b[0m_screen\u001b[0m \u001b[0;34m=\u001b[0m \u001b[0mScreen\u001b[0m\u001b[0;34m(\u001b[0m\u001b[0;34m)\u001b[0m\u001b[0;34m\u001b[0m\u001b[0;34m\u001b[0m\u001b[0m\n\u001b[0m\u001b[1;32m   3813\u001b[0m         RawTurtle.__init__(self, Turtle._screen,\n\u001b[1;32m   3814\u001b[0m                            \u001b[0mshape\u001b[0m\u001b[0;34m=\u001b[0m\u001b[0mshape\u001b[0m\u001b[0;34m,\u001b[0m\u001b[0;34m\u001b[0m\u001b[0;34m\u001b[0m\u001b[0m\n",
            "\u001b[0;32m/usr/lib/python3.6/turtle.py\u001b[0m in \u001b[0;36mScreen\u001b[0;34m()\u001b[0m\n\u001b[1;32m   3660\u001b[0m     else return the existing one.\"\"\"\n\u001b[1;32m   3661\u001b[0m     \u001b[0;32mif\u001b[0m \u001b[0mTurtle\u001b[0m\u001b[0;34m.\u001b[0m\u001b[0m_screen\u001b[0m \u001b[0;32mis\u001b[0m \u001b[0;32mNone\u001b[0m\u001b[0;34m:\u001b[0m\u001b[0;34m\u001b[0m\u001b[0;34m\u001b[0m\u001b[0m\n\u001b[0;32m-> 3662\u001b[0;31m         \u001b[0mTurtle\u001b[0m\u001b[0;34m.\u001b[0m\u001b[0m_screen\u001b[0m \u001b[0;34m=\u001b[0m \u001b[0m_Screen\u001b[0m\u001b[0;34m(\u001b[0m\u001b[0;34m)\u001b[0m\u001b[0;34m\u001b[0m\u001b[0;34m\u001b[0m\u001b[0m\n\u001b[0m\u001b[1;32m   3663\u001b[0m     \u001b[0;32mreturn\u001b[0m \u001b[0mTurtle\u001b[0m\u001b[0;34m.\u001b[0m\u001b[0m_screen\u001b[0m\u001b[0;34m\u001b[0m\u001b[0;34m\u001b[0m\u001b[0m\n\u001b[1;32m   3664\u001b[0m \u001b[0;34m\u001b[0m\u001b[0m\n",
            "\u001b[0;32m/usr/lib/python3.6/turtle.py\u001b[0m in \u001b[0;36m__init__\u001b[0;34m(self)\u001b[0m\n\u001b[1;32m   3676\u001b[0m         \u001b[0;31m# preserved (perhaps by passing it as an optional parameter)\u001b[0m\u001b[0;34m\u001b[0m\u001b[0;34m\u001b[0m\u001b[0;34m\u001b[0m\u001b[0m\n\u001b[1;32m   3677\u001b[0m         \u001b[0;32mif\u001b[0m \u001b[0m_Screen\u001b[0m\u001b[0;34m.\u001b[0m\u001b[0m_root\u001b[0m \u001b[0;32mis\u001b[0m \u001b[0;32mNone\u001b[0m\u001b[0;34m:\u001b[0m\u001b[0;34m\u001b[0m\u001b[0;34m\u001b[0m\u001b[0m\n\u001b[0;32m-> 3678\u001b[0;31m             \u001b[0m_Screen\u001b[0m\u001b[0;34m.\u001b[0m\u001b[0m_root\u001b[0m \u001b[0;34m=\u001b[0m \u001b[0mself\u001b[0m\u001b[0;34m.\u001b[0m\u001b[0m_root\u001b[0m \u001b[0;34m=\u001b[0m \u001b[0m_Root\u001b[0m\u001b[0;34m(\u001b[0m\u001b[0;34m)\u001b[0m\u001b[0;34m\u001b[0m\u001b[0;34m\u001b[0m\u001b[0m\n\u001b[0m\u001b[1;32m   3679\u001b[0m             \u001b[0mself\u001b[0m\u001b[0;34m.\u001b[0m\u001b[0m_root\u001b[0m\u001b[0;34m.\u001b[0m\u001b[0mtitle\u001b[0m\u001b[0;34m(\u001b[0m\u001b[0m_Screen\u001b[0m\u001b[0;34m.\u001b[0m\u001b[0m_title\u001b[0m\u001b[0;34m)\u001b[0m\u001b[0;34m\u001b[0m\u001b[0;34m\u001b[0m\u001b[0m\n\u001b[1;32m   3680\u001b[0m             \u001b[0mself\u001b[0m\u001b[0;34m.\u001b[0m\u001b[0m_root\u001b[0m\u001b[0;34m.\u001b[0m\u001b[0mondestroy\u001b[0m\u001b[0;34m(\u001b[0m\u001b[0mself\u001b[0m\u001b[0;34m.\u001b[0m\u001b[0m_destroy\u001b[0m\u001b[0;34m)\u001b[0m\u001b[0;34m\u001b[0m\u001b[0;34m\u001b[0m\u001b[0m\n",
            "\u001b[0;32m/usr/lib/python3.6/turtle.py\u001b[0m in \u001b[0;36m__init__\u001b[0;34m(self)\u001b[0m\n\u001b[1;32m    432\u001b[0m     \u001b[0;34m\"\"\"Root class for Screen based on Tkinter.\"\"\"\u001b[0m\u001b[0;34m\u001b[0m\u001b[0;34m\u001b[0m\u001b[0m\n\u001b[1;32m    433\u001b[0m     \u001b[0;32mdef\u001b[0m \u001b[0m__init__\u001b[0m\u001b[0;34m(\u001b[0m\u001b[0mself\u001b[0m\u001b[0;34m)\u001b[0m\u001b[0;34m:\u001b[0m\u001b[0;34m\u001b[0m\u001b[0;34m\u001b[0m\u001b[0m\n\u001b[0;32m--> 434\u001b[0;31m         \u001b[0mTK\u001b[0m\u001b[0;34m.\u001b[0m\u001b[0mTk\u001b[0m\u001b[0;34m.\u001b[0m\u001b[0m__init__\u001b[0m\u001b[0;34m(\u001b[0m\u001b[0mself\u001b[0m\u001b[0;34m)\u001b[0m\u001b[0;34m\u001b[0m\u001b[0;34m\u001b[0m\u001b[0m\n\u001b[0m\u001b[1;32m    435\u001b[0m \u001b[0;34m\u001b[0m\u001b[0m\n\u001b[1;32m    436\u001b[0m     \u001b[0;32mdef\u001b[0m \u001b[0msetupcanvas\u001b[0m\u001b[0;34m(\u001b[0m\u001b[0mself\u001b[0m\u001b[0;34m,\u001b[0m \u001b[0mwidth\u001b[0m\u001b[0;34m,\u001b[0m \u001b[0mheight\u001b[0m\u001b[0;34m,\u001b[0m \u001b[0mcwidth\u001b[0m\u001b[0;34m,\u001b[0m \u001b[0mcheight\u001b[0m\u001b[0;34m)\u001b[0m\u001b[0;34m:\u001b[0m\u001b[0;34m\u001b[0m\u001b[0;34m\u001b[0m\u001b[0m\n",
            "\u001b[0;32m/usr/lib/python3.6/tkinter/__init__.py\u001b[0m in \u001b[0;36m__init__\u001b[0;34m(self, screenName, baseName, className, useTk, sync, use)\u001b[0m\n\u001b[1;32m   2021\u001b[0m                 \u001b[0mbaseName\u001b[0m \u001b[0;34m=\u001b[0m \u001b[0mbaseName\u001b[0m \u001b[0;34m+\u001b[0m \u001b[0mext\u001b[0m\u001b[0;34m\u001b[0m\u001b[0;34m\u001b[0m\u001b[0m\n\u001b[1;32m   2022\u001b[0m         \u001b[0minteractive\u001b[0m \u001b[0;34m=\u001b[0m \u001b[0;36m0\u001b[0m\u001b[0;34m\u001b[0m\u001b[0;34m\u001b[0m\u001b[0m\n\u001b[0;32m-> 2023\u001b[0;31m         \u001b[0mself\u001b[0m\u001b[0;34m.\u001b[0m\u001b[0mtk\u001b[0m \u001b[0;34m=\u001b[0m \u001b[0m_tkinter\u001b[0m\u001b[0;34m.\u001b[0m\u001b[0mcreate\u001b[0m\u001b[0;34m(\u001b[0m\u001b[0mscreenName\u001b[0m\u001b[0;34m,\u001b[0m \u001b[0mbaseName\u001b[0m\u001b[0;34m,\u001b[0m \u001b[0mclassName\u001b[0m\u001b[0;34m,\u001b[0m \u001b[0minteractive\u001b[0m\u001b[0;34m,\u001b[0m \u001b[0mwantobjects\u001b[0m\u001b[0;34m,\u001b[0m \u001b[0museTk\u001b[0m\u001b[0;34m,\u001b[0m \u001b[0msync\u001b[0m\u001b[0;34m,\u001b[0m \u001b[0muse\u001b[0m\u001b[0;34m)\u001b[0m\u001b[0;34m\u001b[0m\u001b[0;34m\u001b[0m\u001b[0m\n\u001b[0m\u001b[1;32m   2024\u001b[0m         \u001b[0;32mif\u001b[0m \u001b[0museTk\u001b[0m\u001b[0;34m:\u001b[0m\u001b[0;34m\u001b[0m\u001b[0;34m\u001b[0m\u001b[0m\n\u001b[1;32m   2025\u001b[0m             \u001b[0mself\u001b[0m\u001b[0;34m.\u001b[0m\u001b[0m_loadtk\u001b[0m\u001b[0;34m(\u001b[0m\u001b[0;34m)\u001b[0m\u001b[0;34m\u001b[0m\u001b[0;34m\u001b[0m\u001b[0m\n",
            "\u001b[0;31mTclError\u001b[0m: no display name and no $DISPLAY environment variable"
          ]
        }
      ]
    },
    {
      "cell_type": "code",
      "metadata": {
        "id": "QczNxVloC8b8",
        "colab_type": "code",
        "colab": {}
      },
      "source": [
        "# Drwaing a Square\n",
        "import turtle as tt\n",
        "a1=tt.Turtle()\n",
        "a1.forward(50)\n",
        "a1.right(90)\n",
        "a1.forward(50)\n",
        "a1.right(90)\n",
        "a1.forward(50)\n",
        "a1.right(90)\n",
        "a1.forward(50)\n",
        "a1.right(90)\n",
        "tt.done()"
      ],
      "execution_count": 0,
      "outputs": []
    },
    {
      "cell_type": "code",
      "metadata": {
        "id": "05ayDmOzC_CV",
        "colab_type": "code",
        "colab": {}
      },
      "source": [
        "# Drwaing a Square\n",
        "import turtle as tt\n",
        "a1=tt.Turtle()\n",
        "a1.backward(50)\n",
        "a1.left(90)\n",
        "a1.backward(50)\n",
        "a1.left(90)\n",
        "a1.backward(50)\n",
        "a1.left(90)\n",
        "a1.backward(50)\n",
        "a1.left(90)\n",
        "tt.done()"
      ],
      "execution_count": 0,
      "outputs": []
    },
    {
      "cell_type": "code",
      "metadata": {
        "id": "nTczQObxDCIV",
        "colab_type": "code",
        "colab": {}
      },
      "source": [
        "# Drwaing a Square\n",
        "import turtle as tt\n",
        "a1=tt.Turtle()\n",
        "for x in range(4):\n",
        "    a1.forward(50)\n",
        "    a1.right(90)\n",
        "\n",
        "            \n",
        "    \n",
        "\n",
        "\n",
        "tt.done()"
      ],
      "execution_count": 0,
      "outputs": []
    },
    {
      "cell_type": "code",
      "metadata": {
        "id": "E0sjJl51DHMU",
        "colab_type": "code",
        "colab": {}
      },
      "source": [
        "import turtle as tt\n",
        "a1=tt.Turtle()\n",
        "\n",
        "for x in range(40):\n",
        "    a1.forward(50)\n",
        "    a1.right(144)   \n",
        "tt.done()"
      ],
      "execution_count": 0,
      "outputs": []
    },
    {
      "cell_type": "code",
      "metadata": {
        "id": "UdcMI1rJDNpX",
        "colab_type": "code",
        "colab": {}
      },
      "source": [
        "import turtle as tt\n",
        "a1=tt.Turtle()\n",
        "a1.pencolor(\"lime\")\n",
        "for i in range(50):\n",
        "    a1.forward(50)\n",
        "    a1.right(123)\n",
        "    \n",
        "tt.done()"
      ],
      "execution_count": 0,
      "outputs": []
    },
    {
      "cell_type": "code",
      "metadata": {
        "id": "kq3iz1jJDO71",
        "colab_type": "code",
        "colab": {}
      },
      "source": [
        "#A spiral\n",
        "import turtle as tt\n",
        "a1=tt.Turtle()\n",
        "a1.pencolor(\"lime\")\n",
        "for i in range(50):\n",
        "    a1.forward(50)\n",
        "    a1.right(123)\n",
        "a1.pencolor(\"red\")\n",
        "for i in range(50):\n",
        "    a1.forward(100)\n",
        "    a1.left(123)\n",
        "    \n",
        "tt.done()"
      ],
      "execution_count": 0,
      "outputs": []
    },
    {
      "cell_type": "code",
      "metadata": {
        "id": "ssJXnVIZDUN8",
        "colab_type": "code",
        "colab": {}
      },
      "source": [
        "# A colorful Hexagon\n",
        "\n",
        "import turtle as tt\n",
        "colors=['red','orange','yellow','green','blue','indigo','violet']\n",
        "a1=tt.Turtle()\n",
        "for x in range(360):\n",
        "    a1.pencolor(colors[x%7])\n",
        "    a1.width(x/100+1)\n",
        "    a1.forward(x)\n",
        "    a1.left(59)\n",
        "    \n",
        "tt.done()"
      ],
      "execution_count": 0,
      "outputs": []
    },
    {
      "cell_type": "code",
      "metadata": {
        "id": "nmy-PYc-DXFU",
        "colab_type": "code",
        "colab": {}
      },
      "source": [
        "import turtle as tt\n",
        "colors=['red','orange','yellow','green','blue','violet']\n",
        "a1=tt.Turtle()\n",
        "for x in range(360):\n",
        "    a1.pencolor(colors[x%6])\n",
        "    a1.width(x/100+1)\n",
        "    a1.forward(x)\n",
        "    a1.left(59)\n",
        "    \n",
        "tt.done()"
      ],
      "execution_count": 0,
      "outputs": []
    },
    {
      "cell_type": "code",
      "metadata": {
        "id": "JQljeO1ODnDN",
        "colab_type": "code",
        "colab": {}
      },
      "source": [
        "# generation of dots\n",
        "\n",
        "import turtle as tt\n",
        "a1=tt.Turtle()\n",
        "colors=['red','orange','yellow','green','blue','indigo','violet']\n",
        "dot_distance=10\n",
        "width=10\n",
        "height=15\n",
        "a1.penup()\n",
        "for x in range(height):\n",
        "    a1.pencolor(colors[x%7])\n",
        "    for i in range(width):\n",
        "        a1.dot()\n",
        "        a1.forward(dot_distance)\n",
        "    a1.forward(dot_distance*width)\n",
        "    a1.right(90)\n",
        "    a1.forward(dot_distance)\n",
        "    a1.left(90)\n",
        "tt.done()"
      ],
      "execution_count": 0,
      "outputs": []
    },
    {
      "cell_type": "code",
      "metadata": {
        "id": "RaQJo5j4DqNj",
        "colab_type": "code",
        "colab": {}
      },
      "source": [
        "# generating blue flowers\n",
        "\n",
        "from turtle import*\n",
        "import random\n",
        "for n in range(50):\n",
        "    penup()\n",
        "    goto(random.randint(-400,400),random.randint(-400,400))\n",
        "    \n",
        "    red_amount=random.randint(0,30)/100.0\n",
        "    blue_amount=random.randint(50,100)/100.0\n",
        "    green_amount=random.randint(0,30)/100.0\n",
        "    \n",
        "    pencolor((red_amount,blue_amount,green_amount))\n",
        "    \n",
        "    circle_size=random.randint(10,40)\n",
        "    pensize(random.randint(4,6))\n",
        "    \n",
        "    for i in range(6):\n",
        "        circle(circle_size)\n",
        "        left(60)"
      ],
      "execution_count": 0,
      "outputs": []
    },
    {
      "cell_type": "code",
      "metadata": {
        "id": "THSWopCbDs-K",
        "colab_type": "code",
        "colab": {}
      },
      "source": [
        "#generating blue flowers\n",
        "from turtle import *\n",
        "import random\n",
        "\n",
        "for n in range(50):\n",
        "    penup()\n",
        "    goto(random.randint(-400,400),random.randint(-400,400))\n",
        "    pendown()\n",
        "    red_amount=random.randint(0,30)/100.0\n",
        "    blue_amount=random.randint(50,100)/100.0\n",
        "    green_amount=random.randint(0,30)/100.0\n",
        "    pencolor((red_amount,blue_amount,green_amount))\n",
        "    circle_size=random.randint(10,40)\n",
        "    pensize(random.randint(4,6))\n",
        "    for i in range(6):\n",
        "        circle(circle_size)\n",
        "        left(60)\n",
        "tt.done()"
      ],
      "execution_count": 0,
      "outputs": []
    },
    {
      "cell_type": "code",
      "metadata": {
        "id": "petdgI3nD17R",
        "colab_type": "code",
        "colab": {}
      },
      "source": [
        "# symbol generation using Python\n",
        "from turtle import*\n",
        "def main():\n",
        "    colors=(\"orange\",\"turquoise\",\"pink\",\"yellow\",\"grey\",\"#E76F90\",\"red\",\"green\",\"purple\")\n",
        "    reset()\n",
        "    Screen()\n",
        "    up()\n",
        "    goto(-320,-195)\n",
        "    width(70)\n",
        "    for pcolor in colors:\n",
        "        color(pcolor)\n",
        "        down()\n",
        "        forward(640)\n",
        "        up()\n",
        "        backward(640)\n",
        "        left(90)\n",
        "        forward(66)\n",
        "        right(90)\n",
        "    width(55)\n",
        "    color(\"white\")\n",
        "    goto(0,-170)\n",
        "    down()\n",
        "    \n",
        "    circle(170)\n",
        "    left(90)\n",
        "    forward(340)\n",
        "    up()\n",
        "    left(180)\n",
        "    forward(170)\n",
        "    right(45)\n",
        "    down()\n",
        "    forward(170)\n",
        "    up()\n",
        "    backward(170)\n",
        "    left(90)\n",
        "    down()\n",
        "    forward(170)\n",
        "    up()\n",
        "    goto(0,300)\n",
        "if __name__==\"__main__\":\n",
        "    main()\n",
        "    mainloop()\n",
        "\n",
        "    \n",
        "tt.done()"
      ],
      "execution_count": 0,
      "outputs": []
    },
    {
      "cell_type": "code",
      "metadata": {
        "id": "xNe-FzumD73d",
        "colab_type": "code",
        "colab": {}
      },
      "source": [
        "from turtle import*\n",
        "N=80\n",
        "def f(x):\n",
        "    return 3.9*x*(1-x)\n",
        "def g(x):\n",
        "    return 3.9*(x-x**2)\n",
        "def h(x):\n",
        "    return 3.9*x-3.9*x*x\n",
        "def jumpto(x,y):\n",
        "    penup()\n",
        "    goto(x,y)\n",
        "def line(x1,y1,x2,y2):\n",
        "    jumpto(x1,y1)\n",
        "    pendown()\n",
        "    jumpto(x2,y2)\n",
        "def coosys():\n",
        "    line(-1,0,N+1,0)\n",
        "    line(0,-0-1,0,1.1)\n",
        "    \n",
        "def plot(fun,start,color):\n",
        "    pencolor(color)\n",
        "    x=start\n",
        "    jumpto(0,x)\n",
        "    pendown()\n",
        "    dot(5)\n",
        "    for i in range(N):\n",
        "        x=fun(x)\n",
        "        goto(i+1,x)\n",
        "        dot(5)\n",
        "        \n",
        "def main():\n",
        "    reset()\n",
        "    setworldcoordinates(-1.0,-1.0,N+1,1.1)\n",
        "    speed(0)\n",
        "    hideturtle()\n",
        "    coosys()\n",
        "    plot(f,0.35,\"blue\")"
      ],
      "execution_count": 0,
      "outputs": []
    }
  ]
}