{
  "nbformat": 4,
  "nbformat_minor": 0,
  "metadata": {
    "colab": {
      "name": "Python.ipynb",
      "version": "0.3.2",
      "provenance": [],
      "include_colab_link": true
    },
    "kernelspec": {
      "name": "python3",
      "display_name": "Python 3"
    }
  },
  "cells": [
    {
      "cell_type": "markdown",
      "metadata": {
        "id": "view-in-github",
        "colab_type": "text"
      },
      "source": [
        "<a href=\"https://colab.research.google.com/github/Shruthi341/Raptor/blob/master/Python.ipynb\" target=\"_parent\"><img src=\"https://colab.research.google.com/assets/colab-badge.svg\" alt=\"Open In Colab\"/></a>"
      ]
    },
    {
      "cell_type": "code",
      "metadata": {
        "id": "rMW6Pw6G8Akl",
        "colab_type": "code",
        "colab": {
          "base_uri": "https://localhost:8080/",
          "height": 35
        },
        "outputId": "f9c0c3a8-06b2-4a02-fe84-0d3cd87f795c"
      },
      "source": [
        "x=10\n",
        "if(x>15):\n",
        "  print(\"Hello\")\n",
        "else:\n",
        " print(\"bye\")\n"
      ],
      "execution_count": 11,
      "outputs": [
        {
          "output_type": "stream",
          "text": [
            "bye\n"
          ],
          "name": "stdout"
        }
      ]
    },
    {
      "cell_type": "markdown",
      "metadata": {
        "id": "i_v08Wqo_Oe_",
        "colab_type": "text"
      },
      "source": [
        "# example 2"
      ]
    },
    {
      "cell_type": "code",
      "metadata": {
        "id": "YJKx_Jsb9oYJ",
        "colab_type": "code",
        "colab": {
          "base_uri": "https://localhost:8080/",
          "height": 35
        },
        "outputId": "8237d190-d81b-4489-aca4-8310402b2dc0"
      },
      "source": [
        "x=10\n",
        "if(x<15):\n",
        "  print(\"gud mrng\")\n",
        "elif(x==15):\n",
        "  print(\"gud aftn\")\n",
        "else:\n",
        "  print(\"gud ngt\")\n",
        "  "
      ],
      "execution_count": 18,
      "outputs": [
        {
          "output_type": "stream",
          "text": [
            "gud mrng\n"
          ],
          "name": "stdout"
        }
      ]
    },
    {
      "cell_type": "markdown",
      "metadata": {
        "id": "EvBPIL0sA_dY",
        "colab_type": "text"
      },
      "source": [
        "# ex:3"
      ]
    },
    {
      "cell_type": "code",
      "metadata": {
        "id": "57rn6IfdBG-i",
        "colab_type": "code",
        "colab": {
          "base_uri": "https://localhost:8080/",
          "height": 35
        },
        "outputId": "9a2b57d9-e43e-47af-b9ea-ef04b6418740"
      },
      "source": [
        "x=30\n",
        "y=20\n",
        "if(x>y):\n",
        "  print(\"x is greater\")\n",
        "else:\n",
        " print(\"y is greater\")"
      ],
      "execution_count": 20,
      "outputs": [
        {
          "output_type": "stream",
          "text": [
            "x is greater\n"
          ],
          "name": "stdout"
        }
      ]
    },
    {
      "cell_type": "markdown",
      "metadata": {
        "id": "cEJRK0B4DIkh",
        "colab_type": "text"
      },
      "source": [
        "# ex:4"
      ]
    },
    {
      "cell_type": "code",
      "metadata": {
        "id": "hXnRRUkBDMFk",
        "colab_type": "code",
        "colab": {
          "base_uri": "https://localhost:8080/",
          "height": 35
        },
        "outputId": "476bb3a0-1b62-4890-cffb-1837a48d7347"
      },
      "source": [
        "x=9\n",
        "y=10\n",
        "if(x==y):\n",
        "  print(x*x)\n",
        "else:\n",
        "  print(x*y)"
      ],
      "execution_count": 25,
      "outputs": [
        {
          "output_type": "stream",
          "text": [
            "90\n"
          ],
          "name": "stdout"
        }
      ]
    },
    {
      "cell_type": "markdown",
      "metadata": {
        "id": "P5tA1zSLFyRK",
        "colab_type": "text"
      },
      "source": [
        "# ex:5"
      ]
    },
    {
      "cell_type": "code",
      "metadata": {
        "id": "uj1CUgRhF14R",
        "colab_type": "code",
        "colab": {
          "base_uri": "https://localhost:8080/",
          "height": 35
        },
        "outputId": "a1dc8727-8b8f-4751-cf97-c77d673f4c99"
      },
      "source": [
        "x=-9\n",
        "if(x==0):\n",
        "  print(\"x is zero\")\n",
        "elif(x<0):\n",
        "  print(\"x is negative\")\n",
        "else:\n",
        "  print(\"x is positive\")"
      ],
      "execution_count": 28,
      "outputs": [
        {
          "output_type": "stream",
          "text": [
            "x is negative\n"
          ],
          "name": "stdout"
        }
      ]
    },
    {
      "cell_type": "markdown",
      "metadata": {
        "id": "zn16sOYUG-dQ",
        "colab_type": "text"
      },
      "source": [
        "# ex:6"
      ]
    },
    {
      "cell_type": "code",
      "metadata": {
        "id": "ZZv5ZE8xJ1jT",
        "colab_type": "code",
        "colab": {
          "base_uri": "https://localhost:8080/",
          "height": 199
        },
        "outputId": "942bbd94-32d1-4203-bb05-7da31bb0399c"
      },
      "source": [
        "n=1\n",
        "while(n<=10):\n",
        "  print(n)\n",
        "  n=n+1"
      ],
      "execution_count": 30,
      "outputs": [
        {
          "output_type": "stream",
          "text": [
            "1\n",
            "2\n",
            "3\n",
            "4\n",
            "5\n",
            "6\n",
            "7\n",
            "8\n",
            "9\n",
            "10\n"
          ],
          "name": "stdout"
        }
      ]
    },
    {
      "cell_type": "markdown",
      "metadata": {
        "id": "yv8SgrpTKESE",
        "colab_type": "text"
      },
      "source": [
        "**# Loop Statement: While**\n",
        "Syntax:"
      ]
    },
    {
      "cell_type": "markdown",
      "metadata": {
        "id": "cmf_Vcg-K3Eh",
        "colab_type": "text"
      },
      "source": [
        "# ex:7"
      ]
    },
    {
      "cell_type": "code",
      "metadata": {
        "id": "4GRweZFwK-Ox",
        "colab_type": "code",
        "colab": {
          "base_uri": "https://localhost:8080/",
          "height": 454
        },
        "outputId": "7b2c7c86-b62e-4ab9-bfc7-500d427f6d12"
      },
      "source": [
        "n=-22\n",
        "while(n>=-45):\n",
        "  print(n)\n",
        "  n=n-1"
      ],
      "execution_count": 31,
      "outputs": [
        {
          "output_type": "stream",
          "text": [
            "-22\n",
            "-23\n",
            "-24\n",
            "-25\n",
            "-26\n",
            "-27\n",
            "-28\n",
            "-29\n",
            "-30\n",
            "-31\n",
            "-32\n",
            "-33\n",
            "-34\n",
            "-35\n",
            "-36\n",
            "-37\n",
            "-38\n",
            "-39\n",
            "-40\n",
            "-41\n",
            "-42\n",
            "-43\n",
            "-44\n",
            "-45\n"
          ],
          "name": "stdout"
        }
      ]
    },
    {
      "cell_type": "markdown",
      "metadata": {
        "id": "BW5ROqM2LXaa",
        "colab_type": "text"
      },
      "source": [
        "# ex:8"
      ]
    },
    {
      "cell_type": "code",
      "metadata": {
        "id": "0IMhXDl8LZ3O",
        "colab_type": "code",
        "colab": {
          "base_uri": "https://localhost:8080/",
          "height": 72
        },
        "outputId": "7f96abde-4f78-4270-8d94-94dff405399e"
      },
      "source": [
        "x=input(\"enter num1\")\n",
        "y=input(\"enter num2\")\n",
        "if(x>y):\n",
        "  print(\"x is greater\")\n",
        "else:\n",
        "  print(\"y is greater\")\n"
      ],
      "execution_count": 33,
      "outputs": [
        {
          "output_type": "stream",
          "text": [
            "enter num154\n",
            "enter num265\n",
            "y is greater\n"
          ],
          "name": "stdout"
        }
      ]
    },
    {
      "cell_type": "markdown",
      "metadata": {
        "id": "ijlu26p8MiUE",
        "colab_type": "text"
      },
      "source": [
        "# ex:9"
      ]
    },
    {
      "cell_type": "code",
      "metadata": {
        "id": "yWpeSkZwMkew",
        "colab_type": "code",
        "colab": {
          "base_uri": "https://localhost:8080/",
          "height": 199
        },
        "outputId": "b06a6ff6-cf9c-42a9-fdac-bdcd26428dda"
      },
      "source": [
        "x=10\n",
        "while(x>=1):\n",
        "     print(x)\n",
        "     x=x-1  "
      ],
      "execution_count": 35,
      "outputs": [
        {
          "output_type": "stream",
          "text": [
            "10\n",
            "9\n",
            "8\n",
            "7\n",
            "6\n",
            "5\n",
            "4\n",
            "3\n",
            "2\n",
            "1\n"
          ],
          "name": "stdout"
        }
      ]
    },
    {
      "cell_type": "markdown",
      "metadata": {
        "id": "iFOxfAMUNGX3",
        "colab_type": "text"
      },
      "source": [
        "# ex:10\n",
        "Print sum of even numbers btwn 1-100"
      ]
    },
    {
      "cell_type": "code",
      "metadata": {
        "id": "M8e3WSsBNZW8",
        "colab_type": "code",
        "colab": {
          "base_uri": "https://localhost:8080/",
          "height": 926
        },
        "outputId": "89a2263f-ab38-4445-c6e0-328b2b3b09ec"
      },
      "source": [
        "n=1\n",
        "while(n<=100):\n",
        "  if(n%2==0):\n",
        "    print(n)\n",
        "  n=n+1"
      ],
      "execution_count": 40,
      "outputs": [
        {
          "output_type": "stream",
          "text": [
            "2\n",
            "4\n",
            "6\n",
            "8\n",
            "10\n",
            "12\n",
            "14\n",
            "16\n",
            "18\n",
            "20\n",
            "22\n",
            "24\n",
            "26\n",
            "28\n",
            "30\n",
            "32\n",
            "34\n",
            "36\n",
            "38\n",
            "40\n",
            "42\n",
            "44\n",
            "46\n",
            "48\n",
            "50\n",
            "52\n",
            "54\n",
            "56\n",
            "58\n",
            "60\n",
            "62\n",
            "64\n",
            "66\n",
            "68\n",
            "70\n",
            "72\n",
            "74\n",
            "76\n",
            "78\n",
            "80\n",
            "82\n",
            "84\n",
            "86\n",
            "88\n",
            "90\n",
            "92\n",
            "94\n",
            "96\n",
            "98\n",
            "100\n"
          ],
          "name": "stdout"
        }
      ]
    },
    {
      "cell_type": "markdown",
      "metadata": {
        "id": "GzkR-TuPQpRe",
        "colab_type": "text"
      },
      "source": [
        "# ex:11"
      ]
    },
    {
      "cell_type": "code",
      "metadata": {
        "id": "_AhwYe5bOiij",
        "colab_type": "code",
        "colab": {
          "base_uri": "https://localhost:8080/",
          "height": 72
        },
        "outputId": "26a15ac5-f0ed-480d-87be-7a3248306f77"
      },
      "source": [
        "x=int(input(\"Enter 1 no:\"))\n",
        "y=int(input(\"ENTER 2 NO:\"))\n",
        "sum=0\n",
        "while(x!=y):\n",
        "  if(x%2==0):\n",
        "    sum=sum+x\n",
        "  x=x+1\n",
        "print(sum)  \n",
        "    "
      ],
      "execution_count": 45,
      "outputs": [
        {
          "output_type": "stream",
          "text": [
            "Enter 1 no:2\n",
            "ENTER 2 NO:16\n",
            "56\n"
          ],
          "name": "stdout"
        }
      ]
    },
    {
      "cell_type": "markdown",
      "metadata": {
        "id": "xQusbGkqSFUm",
        "colab_type": "text"
      },
      "source": [
        "# ex:12"
      ]
    },
    {
      "cell_type": "markdown",
      "metadata": {
        "id": "WyIyoKACSlv5",
        "colab_type": "text"
      },
      "source": [
        "print number from right\n",
        "\n"
      ]
    },
    {
      "cell_type": "code",
      "metadata": {
        "id": "S-irv3wjS5Cf",
        "colab_type": "code",
        "colab": {
          "base_uri": "https://localhost:8080/",
          "height": 90
        },
        "outputId": "5de3bda4-166c-4dcc-c4c9-6fa29968439a"
      },
      "source": [
        "x=int(input(\"Enter a no.\"))\n",
        "while(x!=0):\n",
        "  r=x % 10\n",
        "  print(r)\n",
        "  x = x // 10"
      ],
      "execution_count": 48,
      "outputs": [
        {
          "output_type": "stream",
          "text": [
            "Enter a no.143\n",
            "3\n",
            "4\n",
            "1\n"
          ],
          "name": "stdout"
        }
      ]
    },
    {
      "cell_type": "markdown",
      "metadata": {
        "id": "bJEB8Ihbaw5v",
        "colab_type": "text"
      },
      "source": [
        "# ex:13"
      ]
    },
    {
      "cell_type": "markdown",
      "metadata": {
        "id": "k2ZHWwHAa8Tx",
        "colab_type": "text"
      },
      "source": [
        "Print sum of even numbers in digit"
      ]
    },
    {
      "cell_type": "code",
      "metadata": {
        "id": "NbaEcC7ra7Ni",
        "colab_type": "code",
        "colab": {
          "base_uri": "https://localhost:8080/",
          "height": 54
        },
        "outputId": "21887655-a716-4406-f61d-b5d7ec596cad"
      },
      "source": [
        "x=int(input(\"Enter a no.:\"))\n",
        "sum=0\n",
        "while(x!=0):\n",
        "  r=x % 10\n",
        "  if(r%2==0):\n",
        "    sum=sum+r\n",
        "  x = x // 10\n",
        "print(sum)  "
      ],
      "execution_count": 51,
      "outputs": [
        {
          "output_type": "stream",
          "text": [
            "Enter a no.:315\n",
            "0\n"
          ],
          "name": "stdout"
        }
      ]
    },
    {
      "cell_type": "markdown",
      "metadata": {
        "id": "NT4nnOlrezt7",
        "colab_type": "text"
      },
      "source": [
        "# ex:14"
      ]
    },
    {
      "cell_type": "markdown",
      "metadata": {
        "id": "vAX7vpdxe-BK",
        "colab_type": "text"
      },
      "source": [
        "Print respective name to digit"
      ]
    },
    {
      "cell_type": "code",
      "metadata": {
        "id": "qGE-hs4WfKsB",
        "colab_type": "code",
        "colab": {
          "base_uri": "https://localhost:8080/",
          "height": 108
        },
        "outputId": "d915ffbb-4818-475f-9049-9e4c28125f7f"
      },
      "source": [
        "x=int(input(\"Enter a no.\"))\n",
        "while(x!=0):\n",
        "  r=x % 10\n",
        "  if(r==0):\n",
        "    print(\"Zero\")\n",
        "  elif(r==1):\n",
        "    print(\"One\")\n",
        "  elif(r==2):\n",
        "    print(\"Two\")\n",
        "  elif(r==3):\n",
        "    print(\"Three\")\n",
        "  elif(r==4):\n",
        "    print(\"Four\")\n",
        "  x= x // 10 \n",
        "\n"
      ],
      "execution_count": 59,
      "outputs": [
        {
          "output_type": "stream",
          "text": [
            "Enter a no.1234\n",
            "Four\n",
            "Three\n",
            "Two\n",
            "One\n"
          ],
          "name": "stdout"
        }
      ]
    },
    {
      "cell_type": "markdown",
      "metadata": {
        "id": "7CZ4JZiMkeqx",
        "colab_type": "text"
      },
      "source": [
        "# ex:15"
      ]
    },
    {
      "cell_type": "markdown",
      "metadata": {
        "id": "KcGzbqDTk-Jm",
        "colab_type": "text"
      },
      "source": [
        "How many times the digit is repeated btwn 2 numbers"
      ]
    },
    {
      "cell_type": "code",
      "metadata": {
        "id": "MU1ezP5tlHd9",
        "colab_type": "code",
        "colab": {
          "base_uri": "https://localhost:8080/",
          "height": 90
        },
        "outputId": "8040747b-bec4-40d1-e450-6c104c9589ec"
      },
      "source": [
        "n=int(input(\"Enter a digit to find\"))\n",
        "x=int(input(\"Enter a higher limit\"))\n",
        "y=int(input(\"Enter a lower limit\"))\n",
        "c=0\n",
        "while(x!=y):\n",
        "  t=x\n",
        "  while(x!=0):\n",
        "    r=x%10\n",
        "    if(r==n):\n",
        "      c=c+1\n",
        "    x=x//10\n",
        "  x=t\n",
        "  x=x+1\n",
        "print(c)  \n",
        "  \n",
        "    \n",
        "  \n",
        "  "
      ],
      "execution_count": 61,
      "outputs": [
        {
          "output_type": "stream",
          "text": [
            "Enter a digit to find2\n",
            "Enter a higher limit120\n",
            "Enter a lower limit130\n",
            "11\n"
          ],
          "name": "stdout"
        }
      ]
    },
    {
      "cell_type": "markdown",
      "metadata": {
        "id": "_OdJR7y__KQa",
        "colab_type": "text"
      },
      "source": [
        "## Functional Programming in Phyton"
      ]
    },
    {
      "cell_type": "markdown",
      "metadata": {
        "id": "whL3YzBY_N7P",
        "colab_type": "text"
      },
      "source": [
        "def functionName(Parameters):\n",
        "    \n",
        "\n",
        "*   Function in python starts with def(keyword)\n",
        "*   Syntax:\n",
        "                def functionName(Parameters):\n",
        "                                      Tasks    \n",
        "\n"
      ]
    },
    {
      "cell_type": "markdown",
      "metadata": {
        "id": "1xZzl_nqBloh",
        "colab_type": "text"
      },
      "source": [
        "# ex:1"
      ]
    },
    {
      "cell_type": "markdown",
      "metadata": {
        "id": "5Pjn8EqfBbQZ",
        "colab_type": "text"
      },
      "source": [
        "*FUNTIONAL PROGRAM TO PRINT THE  N NATUTAL NUMBERS*"
      ]
    },
    {
      "cell_type": "code",
      "metadata": {
        "id": "-4vhFiSSCbCa",
        "colab_type": "code",
        "colab": {}
      },
      "source": [
        ""
      ],
      "execution_count": 0,
      "outputs": []
    },
    {
      "cell_type": "code",
      "metadata": {
        "id": "sazVSMCyDLCk",
        "colab_type": "code",
        "outputId": "f1fec0e2-3df3-420c-95ba-6f80ead3f3b1",
        "colab": {
          "base_uri": "https://localhost:8080/",
          "height": 34
        }
      },
      "source": [
        "def printNaturalNumbers(n):\n",
        "  cnt=1\n",
        "  while(cnt<=n):\n",
        "    print(cnt,end=\" \")\n",
        "    cnt=cnt+1\n",
        "  print()\n",
        "  return\n",
        "printNaturalNumbers(9)\n",
        "\n",
        "    "
      ],
      "execution_count": 0,
      "outputs": [
        {
          "output_type": "stream",
          "text": [
            "1 2 3 4 5 6 7 8 9 \n"
          ],
          "name": "stdout"
        }
      ]
    },
    {
      "cell_type": "markdown",
      "metadata": {
        "id": "3N_5wTACEws8",
        "colab_type": "text"
      },
      "source": [
        "# ex:2"
      ]
    },
    {
      "cell_type": "markdown",
      "metadata": {
        "id": "-O9-h69hE0-L",
        "colab_type": "text"
      },
      "source": [
        "*Print factorial *"
      ]
    },
    {
      "cell_type": "code",
      "metadata": {
        "id": "pih5kEV9E74j",
        "colab_type": "code",
        "outputId": "40497259-176f-4c9f-ade0-5465354fbba7",
        "colab": {
          "base_uri": "https://localhost:8080/",
          "height": 54
        }
      },
      "source": [
        "def findFact(n):\n",
        "  fact=1\n",
        "  while(n!=0):\n",
        "    fact=fact*n\n",
        "    n=n-1\n",
        "  return fact\n",
        "print(findFact(6))\n",
        "print(findFact(10))\n"
      ],
      "execution_count": 75,
      "outputs": [
        {
          "output_type": "stream",
          "text": [
            "720\n",
            "3628800\n"
          ],
          "name": "stdout"
        }
      ]
    },
    {
      "cell_type": "markdown",
      "metadata": {
        "id": "g8Y0SNj9I1w9",
        "colab_type": "text"
      },
      "source": [
        "# ex:3"
      ]
    },
    {
      "cell_type": "markdown",
      "metadata": {
        "id": "xiqJpaEpI4vV",
        "colab_type": "text"
      },
      "source": [
        "Print number is Palindrome"
      ]
    },
    {
      "cell_type": "code",
      "metadata": {
        "id": "SKSaQsORJNhL",
        "colab_type": "code",
        "colab": {
          "base_uri": "https://localhost:8080/",
          "height": 54
        },
        "outputId": "ae805723-9bdc-4b7a-9def-8c6bd11a6475"
      },
      "source": [
        "n=int(input(\"Enter number:\"))\n",
        "temp=n\n",
        "rev=0\n",
        "while(n>0):\n",
        "    r=n%10\n",
        "    rev=rev*10+r\n",
        "    n=n//10\n",
        "if(temp==rev):\n",
        "    print(\"The number is a palindrome!\")\n",
        "else:\n",
        "    print(\"The number isn't a palindrome!\")\n",
        "\n",
        "\n",
        "  "
      ],
      "execution_count": 85,
      "outputs": [
        {
          "output_type": "stream",
          "text": [
            "Enter number:151\n",
            "The number is a palindrome!\n"
          ],
          "name": "stdout"
        }
      ]
    },
    {
      "cell_type": "markdown",
      "metadata": {
        "id": "HybebzhcNMb7",
        "colab_type": "text"
      },
      "source": [
        "Print number of palindrome btwn limits\n"
      ]
    },
    {
      "cell_type": "code",
      "metadata": {
        "id": "kgHSqtlCNTAE",
        "colab_type": "code",
        "colab": {
          "base_uri": "https://localhost:8080/",
          "height": 35
        },
        "outputId": "a53324c3-51d9-47ae-d839-fe474fd532c5"
      },
      "source": [
        "def countOfPalindrome(n1,n2):\n",
        "    cnt=0\n",
        "    \n",
        "    while(n1!=n2):\n",
        "      rev=0\n",
        "      temp=n1\n",
        "      while(n1>0):\n",
        "        r=n1%10\n",
        "        rev=(rev*10)+r\n",
        "        n1=n1//10\n",
        "      if(temp==rev):\n",
        "        cnt=cnt+1\n",
        "      n1=temp\n",
        "      n1=n1+1\n",
        "    return(cnt)\n",
        "print(countOfPalindrome(10,30))  \n"
      ],
      "execution_count": 4,
      "outputs": [
        {
          "output_type": "stream",
          "text": [
            "2\n"
          ],
          "name": "stdout"
        }
      ]
    },
    {
      "cell_type": "code",
      "metadata": {
        "id": "oRUcgsTSPHcY",
        "colab_type": "code",
        "colab": {}
      },
      "source": [
        ""
      ],
      "execution_count": 0,
      "outputs": []
    }
  ]
}